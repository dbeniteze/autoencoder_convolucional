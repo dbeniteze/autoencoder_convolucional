{
  "nbformat": 4,
  "nbformat_minor": 0,
  "metadata": {
    "colab": {
      "name": "conv_autoencoder.ipynb",
      "provenance": [],
      "collapsed_sections": [],
      "toc_visible": true,
      "authorship_tag": "ABX9TyNWYFOlQCIynPG/0Zkbzf6d",
      "include_colab_link": true
    },
    "kernelspec": {
      "name": "python3",
      "display_name": "Python 3"
    },
    "accelerator": "GPU"
  },
  "cells": [
    {
      "cell_type": "markdown",
      "metadata": {
        "id": "view-in-github",
        "colab_type": "text"
      },
      "source": [
        "<a href=\"https://colab.research.google.com/github/dbeniteze/autoencoder_convolucional/blob/master/conv_autoencoder.ipynb\" target=\"_parent\"><img src=\"https://colab.research.google.com/assets/colab-badge.svg\" alt=\"Open In Colab\"/></a>"
      ]
    },
    {
      "cell_type": "code",
      "metadata": {
        "id": "LvCGvOKYgDVf",
        "colab_type": "code",
        "colab": {
          "base_uri": "https://localhost:8080/",
          "height": 306
        },
        "outputId": "8b7e89d4-d227-415c-8448-fda56e1b5e14"
      },
      "source": [
        "!pip3 install keras==2.3.1\n",
        "\n",
        "%tensorflow_version 2.x\n",
        "import tensorflow as tf\n",
        "device_name = tf.test.gpu_device_name()\n",
        "if device_name != '/device:GPU:0':\n",
        "  raise SystemError('GPU device not found')\n",
        "print('Found GPU at: {}'.format(device_name))"
      ],
      "execution_count": 1,
      "outputs": [
        {
          "output_type": "stream",
          "text": [
            "Collecting keras==2.3.1\n",
            "\u001b[?25l  Downloading https://files.pythonhosted.org/packages/ad/fd/6bfe87920d7f4fd475acd28500a42482b6b84479832bdc0fe9e589a60ceb/Keras-2.3.1-py2.py3-none-any.whl (377kB)\n",
            "\r\u001b[K     |▉                               | 10kB 22.0MB/s eta 0:00:01\r\u001b[K     |█▊                              | 20kB 29.5MB/s eta 0:00:01\r\u001b[K     |██▋                             | 30kB 24.1MB/s eta 0:00:01\r\u001b[K     |███▌                            | 40kB 13.3MB/s eta 0:00:01\r\u001b[K     |████▍                           | 51kB 11.7MB/s eta 0:00:01\r\u001b[K     |█████▏                          | 61kB 13.6MB/s eta 0:00:01\r\u001b[K     |██████                          | 71kB 12.8MB/s eta 0:00:01\r\u001b[K     |███████                         | 81kB 11.8MB/s eta 0:00:01\r\u001b[K     |███████▉                        | 92kB 13.1MB/s eta 0:00:01\r\u001b[K     |████████▊                       | 102kB 11.9MB/s eta 0:00:01\r\u001b[K     |█████████▌                      | 112kB 11.9MB/s eta 0:00:01\r\u001b[K     |██████████▍                     | 122kB 11.9MB/s eta 0:00:01\r\u001b[K     |███████████▎                    | 133kB 11.9MB/s eta 0:00:01\r\u001b[K     |████████████▏                   | 143kB 11.9MB/s eta 0:00:01\r\u001b[K     |█████████████                   | 153kB 11.9MB/s eta 0:00:01\r\u001b[K     |█████████████▉                  | 163kB 11.9MB/s eta 0:00:01\r\u001b[K     |██████████████▊                 | 174kB 11.9MB/s eta 0:00:01\r\u001b[K     |███████████████▋                | 184kB 11.9MB/s eta 0:00:01\r\u001b[K     |████████████████▌               | 194kB 11.9MB/s eta 0:00:01\r\u001b[K     |█████████████████▍              | 204kB 11.9MB/s eta 0:00:01\r\u001b[K     |██████████████████▏             | 215kB 11.9MB/s eta 0:00:01\r\u001b[K     |███████████████████             | 225kB 11.9MB/s eta 0:00:01\r\u001b[K     |████████████████████            | 235kB 11.9MB/s eta 0:00:01\r\u001b[K     |████████████████████▉           | 245kB 11.9MB/s eta 0:00:01\r\u001b[K     |█████████████████████▊          | 256kB 11.9MB/s eta 0:00:01\r\u001b[K     |██████████████████████▌         | 266kB 11.9MB/s eta 0:00:01\r\u001b[K     |███████████████████████▍        | 276kB 11.9MB/s eta 0:00:01\r\u001b[K     |████████████████████████▎       | 286kB 11.9MB/s eta 0:00:01\r\u001b[K     |█████████████████████████▏      | 296kB 11.9MB/s eta 0:00:01\r\u001b[K     |██████████████████████████      | 307kB 11.9MB/s eta 0:00:01\r\u001b[K     |██████████████████████████▉     | 317kB 11.9MB/s eta 0:00:01\r\u001b[K     |███████████████████████████▊    | 327kB 11.9MB/s eta 0:00:01\r\u001b[K     |████████████████████████████▋   | 337kB 11.9MB/s eta 0:00:01\r\u001b[K     |█████████████████████████████▌  | 348kB 11.9MB/s eta 0:00:01\r\u001b[K     |██████████████████████████████▍ | 358kB 11.9MB/s eta 0:00:01\r\u001b[K     |███████████████████████████████▏| 368kB 11.9MB/s eta 0:00:01\r\u001b[K     |████████████████████████████████| 378kB 11.9MB/s \n",
            "\u001b[?25hRequirement already satisfied: h5py in /usr/local/lib/python3.6/dist-packages (from keras==2.3.1) (2.8.0)\n",
            "Requirement already satisfied: keras-applications>=1.0.6 in /usr/local/lib/python3.6/dist-packages (from keras==2.3.1) (1.0.8)\n",
            "Requirement already satisfied: keras-preprocessing>=1.0.5 in /usr/local/lib/python3.6/dist-packages (from keras==2.3.1) (1.1.0)\n",
            "Requirement already satisfied: numpy>=1.9.1 in /usr/local/lib/python3.6/dist-packages (from keras==2.3.1) (1.17.5)\n",
            "Requirement already satisfied: pyyaml in /usr/local/lib/python3.6/dist-packages (from keras==2.3.1) (3.13)\n",
            "Requirement already satisfied: scipy>=0.14 in /usr/local/lib/python3.6/dist-packages (from keras==2.3.1) (1.4.1)\n",
            "Requirement already satisfied: six>=1.9.0 in /usr/local/lib/python3.6/dist-packages (from keras==2.3.1) (1.12.0)\n",
            "Installing collected packages: keras\n",
            "  Found existing installation: Keras 2.2.5\n",
            "    Uninstalling Keras-2.2.5:\n",
            "      Successfully uninstalled Keras-2.2.5\n",
            "Successfully installed keras-2.3.1\n",
            "TensorFlow 2.x selected.\n",
            "Found GPU at: /device:GPU:0\n"
          ],
          "name": "stdout"
        }
      ]
    },
    {
      "cell_type": "code",
      "metadata": {
        "id": "qoJIAQUigGRf",
        "colab_type": "code",
        "colab": {}
      },
      "source": [
        "# Larger CNN for the MNIST Dataset\n",
        "from keras import backend as K\n",
        "from keras.datasets import mnist\n",
        "from keras.models import Sequential\n",
        "from keras.layers import Dense\n",
        "from keras.layers import Dropout, Reshape\n",
        "from keras.layers import Flatten, BatchNormalization\n",
        "from keras.layers import LeakyReLU\n",
        "from keras.layers.convolutional import Conv2D\n",
        "from keras.layers.convolutional import MaxPooling2D\n",
        "from keras.utils import np_utils\n",
        "from matplotlib import pyplot as plt\n",
        "import numpy as np\n",
        "from keras.layers import Input, Dense, Conv2D, MaxPooling2D, UpSampling2D, Conv2DTranspose\n",
        "from keras.models import Model\n",
        "from keras.optimizers import Adam\n",
        "from keras import backend as K\n",
        "# load data\n",
        "(X_train, y_train), (X_test, y_test) = mnist.load_data()\n",
        "# reshape to be [samples][width][height][channels]\n",
        "X_train = X_train.reshape((X_train.shape[0], 28, 28, 1)).astype('float32')\n",
        "X_test = X_test.reshape((X_test.shape[0], 28, 28, 1)).astype('float32')\n",
        "# normalize inputs from 0-255 to 0-1\n",
        "X_train = X_train / 255\n",
        "X_test = X_test / 255\n"
      ],
      "execution_count": 0,
      "outputs": []
    },
    {
      "cell_type": "code",
      "metadata": {
        "id": "E19oJS3_gc8W",
        "colab_type": "code",
        "colab": {}
      },
      "source": [
        "# autoencoder simple con upsampling\n",
        "input_img = Input(shape=(28, 28, 1))  # adapt this if using `channels_first` image data format\n",
        "LF = (5,5)\n",
        "x = Conv2D(16, LF, activation='relu', padding='same')(input_img)\n",
        "x = MaxPooling2D((2, 2), padding='same')(x)\n",
        "x = Conv2D(8, LF, activation='relu', padding='same')(x)\n",
        "x = MaxPooling2D((2, 2), padding='same')(x)\n",
        "x = Conv2D(8, LF, activation='relu', padding='same')(x)\n",
        "encoded = MaxPooling2D((2, 2), padding='same')(x)\n",
        "\n",
        "# at this point the representation is (4, 4, 8) i.e. 128-dimensional\n",
        "\n",
        "x = Conv2D(8, (3,3), activation='relu', padding='same')(encoded)\n",
        "x = UpSampling2D((2, 2))(x)\n",
        "x = Conv2D(8, (3,3), activation='relu', padding='same')(x)\n",
        "x = UpSampling2D((2, 2))(x)\n",
        "x = Conv2D(16, (3,3), activation='relu')(x)\n",
        "x = UpSampling2D((2, 2))(x)\n",
        "decoded = Conv2D(1, (3,3), activation='sigmoid', padding='same')(x)\n",
        "\n",
        "autoencoder = Model(input_img, decoded)\n",
        "autoencoder.summary()"
      ],
      "execution_count": 0,
      "outputs": []
    },
    {
      "cell_type": "code",
      "metadata": {
        "id": "-5cmI7s-zIMZ",
        "colab_type": "code",
        "colab": {
          "base_uri": "https://localhost:8080/",
          "height": 425
        },
        "outputId": "fcf2635b-31ee-41b5-88f7-56336e502e44"
      },
      "source": [
        "#autoencoder con Conv2DTranspose\n",
        "input_img = Input(shape=(28, 28, 1))  # adapt this if using `channels_first` image data format\n",
        "LF = (5,5)\n",
        "x = Conv2D(32, kernel_size=LF, activation='relu')(input_img)\n",
        "x = Conv2D(16, kernel_size=LF, activation='relu')(x)\n",
        "encoded = Conv2D(8, kernel_size=LF, activation='relu')(x)\n",
        "\n",
        "x = Conv2DTranspose(8, kernel_size=LF, activation='relu')(encoded)\n",
        "x = Conv2DTranspose(16, kernel_size=LF, activation='relu')(x)\n",
        "x = Conv2DTranspose(32, kernel_size=LF, activation='relu')(x)\n",
        "decoded = Conv2DTranspose(1, kernel_size=LF, activation='relu', padding='same')(x)\n",
        "\n",
        "autoencoder = Model(input_img, decoded)\n",
        "autoencoder.summary()"
      ],
      "execution_count": 17,
      "outputs": [
        {
          "output_type": "stream",
          "text": [
            "Model: \"model_7\"\n",
            "_________________________________________________________________\n",
            "Layer (type)                 Output Shape              Param #   \n",
            "=================================================================\n",
            "input_7 (InputLayer)         (None, 28, 28, 1)         0         \n",
            "_________________________________________________________________\n",
            "conv2d_24 (Conv2D)           (None, 24, 24, 32)        832       \n",
            "_________________________________________________________________\n",
            "conv2d_25 (Conv2D)           (None, 20, 20, 16)        12816     \n",
            "_________________________________________________________________\n",
            "conv2d_26 (Conv2D)           (None, 16, 16, 8)         3208      \n",
            "_________________________________________________________________\n",
            "conv2d_transpose_20 (Conv2DT (None, 20, 20, 8)         1608      \n",
            "_________________________________________________________________\n",
            "conv2d_transpose_21 (Conv2DT (None, 24, 24, 16)        3216      \n",
            "_________________________________________________________________\n",
            "conv2d_transpose_22 (Conv2DT (None, 28, 28, 32)        12832     \n",
            "_________________________________________________________________\n",
            "conv2d_transpose_23 (Conv2DT (None, 28, 28, 1)         801       \n",
            "=================================================================\n",
            "Total params: 35,313\n",
            "Trainable params: 35,313\n",
            "Non-trainable params: 0\n",
            "_________________________________________________________________\n"
          ],
          "name": "stdout"
        }
      ]
    },
    {
      "cell_type": "code",
      "metadata": {
        "id": "N4-YSIs6zFa6",
        "colab_type": "code",
        "colab": {
          "base_uri": "https://localhost:8080/",
          "height": 1000
        },
        "outputId": "59357654-5c9c-4a82-f262-769712810b3c"
      },
      "source": [
        "def coeff_determination(y_true, y_pred):\n",
        "    SS_res =  K.sum(K.square( y_true-y_pred ))\n",
        "    SS_tot = K.sum(K.square( y_true - K.mean(y_true) ) )\n",
        "    return ( 1 - SS_res/(SS_tot + K.epsilon()) )\n",
        "\n",
        "autoencoder.compile(optimizer=Adam(lr=0.0005),  loss='mse', metrics=[coeff_determination])\n",
        "\n",
        "autoencoder.fit(X_train, X_train,\n",
        "                epochs=50,\n",
        "                batch_size=128,\n",
        "                shuffle=True,\n",
        "                validation_data=(X_test, X_test))\n"
      ],
      "execution_count": 18,
      "outputs": [
        {
          "output_type": "stream",
          "text": [
            "Train on 60000 samples, validate on 10000 samples\n",
            "Epoch 1/50\n",
            "60000/60000 [==============================] - 7s 122us/step - loss: 0.0079 - coeff_determination: 0.9166 - val_loss: 0.0015 - val_coeff_determination: 0.9839\n",
            "Epoch 2/50\n",
            "60000/60000 [==============================] - 7s 118us/step - loss: 0.0012 - coeff_determination: 0.9868 - val_loss: 9.5280e-04 - val_coeff_determination: 0.9900\n",
            "Epoch 3/50\n",
            "60000/60000 [==============================] - 7s 117us/step - loss: 8.8648e-04 - coeff_determination: 0.9907 - val_loss: 7.3672e-04 - val_coeff_determination: 0.9923\n",
            "Epoch 4/50\n",
            "60000/60000 [==============================] - 7s 118us/step - loss: 7.5071e-04 - coeff_determination: 0.9921 - val_loss: 6.2878e-04 - val_coeff_determination: 0.9934\n",
            "Epoch 5/50\n",
            "60000/60000 [==============================] - 7s 117us/step - loss: 6.2346e-04 - coeff_determination: 0.9934 - val_loss: 5.5319e-04 - val_coeff_determination: 0.9942\n",
            "Epoch 6/50\n",
            "60000/60000 [==============================] - 7s 118us/step - loss: 5.7504e-04 - coeff_determination: 0.9939 - val_loss: 5.4276e-04 - val_coeff_determination: 0.9943\n",
            "Epoch 7/50\n",
            "60000/60000 [==============================] - 7s 118us/step - loss: 5.3277e-04 - coeff_determination: 0.9944 - val_loss: 4.7706e-04 - val_coeff_determination: 0.9950\n",
            "Epoch 8/50\n",
            "60000/60000 [==============================] - 7s 118us/step - loss: 4.9494e-04 - coeff_determination: 0.9948 - val_loss: 4.8360e-04 - val_coeff_determination: 0.9949\n",
            "Epoch 9/50\n",
            "60000/60000 [==============================] - 7s 119us/step - loss: 4.6742e-04 - coeff_determination: 0.9951 - val_loss: 4.3583e-04 - val_coeff_determination: 0.9954\n",
            "Epoch 10/50\n",
            "60000/60000 [==============================] - 7s 119us/step - loss: 4.2295e-04 - coeff_determination: 0.9955 - val_loss: 3.7100e-04 - val_coeff_determination: 0.9961\n",
            "Epoch 11/50\n",
            "60000/60000 [==============================] - 7s 117us/step - loss: 3.8060e-04 - coeff_determination: 0.9960 - val_loss: 3.5271e-04 - val_coeff_determination: 0.9963\n",
            "Epoch 12/50\n",
            "60000/60000 [==============================] - 7s 118us/step - loss: 3.6504e-04 - coeff_determination: 0.9962 - val_loss: 3.3415e-04 - val_coeff_determination: 0.9965\n",
            "Epoch 13/50\n",
            "60000/60000 [==============================] - 7s 117us/step - loss: 3.4919e-04 - coeff_determination: 0.9963 - val_loss: 3.4323e-04 - val_coeff_determination: 0.9964\n",
            "Epoch 14/50\n",
            "60000/60000 [==============================] - 7s 117us/step - loss: 3.3889e-04 - coeff_determination: 0.9964 - val_loss: 3.3581e-04 - val_coeff_determination: 0.9965\n",
            "Epoch 15/50\n",
            "60000/60000 [==============================] - 7s 117us/step - loss: 3.2662e-04 - coeff_determination: 0.9966 - val_loss: 3.2629e-04 - val_coeff_determination: 0.9966\n",
            "Epoch 16/50\n",
            "60000/60000 [==============================] - 7s 118us/step - loss: 3.1660e-04 - coeff_determination: 0.9967 - val_loss: 3.8319e-04 - val_coeff_determination: 0.9960\n",
            "Epoch 17/50\n",
            "60000/60000 [==============================] - 7s 118us/step - loss: 3.1365e-04 - coeff_determination: 0.9967 - val_loss: 2.9019e-04 - val_coeff_determination: 0.9970\n",
            "Epoch 18/50\n",
            "60000/60000 [==============================] - 7s 119us/step - loss: 3.0569e-04 - coeff_determination: 0.9968 - val_loss: 3.0811e-04 - val_coeff_determination: 0.9968\n",
            "Epoch 19/50\n",
            "60000/60000 [==============================] - 7s 118us/step - loss: 2.9783e-04 - coeff_determination: 0.9969 - val_loss: 2.8041e-04 - val_coeff_determination: 0.9971\n",
            "Epoch 20/50\n",
            "60000/60000 [==============================] - 7s 118us/step - loss: 2.9594e-04 - coeff_determination: 0.9969 - val_loss: 2.6899e-04 - val_coeff_determination: 0.9972\n",
            "Epoch 21/50\n",
            "60000/60000 [==============================] - 7s 118us/step - loss: 2.8501e-04 - coeff_determination: 0.9970 - val_loss: 2.6984e-04 - val_coeff_determination: 0.9972\n",
            "Epoch 22/50\n",
            "60000/60000 [==============================] - 7s 118us/step - loss: 2.7517e-04 - coeff_determination: 0.9971 - val_loss: 2.8562e-04 - val_coeff_determination: 0.9970\n",
            "Epoch 23/50\n",
            "60000/60000 [==============================] - 7s 118us/step - loss: 2.7842e-04 - coeff_determination: 0.9971 - val_loss: 2.6730e-04 - val_coeff_determination: 0.9972\n",
            "Epoch 24/50\n",
            "60000/60000 [==============================] - 7s 117us/step - loss: 2.6813e-04 - coeff_determination: 0.9972 - val_loss: 3.3096e-04 - val_coeff_determination: 0.9965\n",
            "Epoch 25/50\n",
            "60000/60000 [==============================] - 7s 118us/step - loss: 2.6453e-04 - coeff_determination: 0.9972 - val_loss: 2.5609e-04 - val_coeff_determination: 0.9973\n",
            "Epoch 26/50\n",
            "60000/60000 [==============================] - 7s 119us/step - loss: 2.6336e-04 - coeff_determination: 0.9972 - val_loss: 2.5708e-04 - val_coeff_determination: 0.9973\n",
            "Epoch 27/50\n",
            "60000/60000 [==============================] - 7s 118us/step - loss: 2.5746e-04 - coeff_determination: 0.9973 - val_loss: 3.0812e-04 - val_coeff_determination: 0.9968\n",
            "Epoch 28/50\n",
            "60000/60000 [==============================] - 7s 118us/step - loss: 2.5322e-04 - coeff_determination: 0.9973 - val_loss: 2.3822e-04 - val_coeff_determination: 0.9975\n",
            "Epoch 29/50\n",
            "60000/60000 [==============================] - 7s 117us/step - loss: 2.5129e-04 - coeff_determination: 0.9974 - val_loss: 2.4518e-04 - val_coeff_determination: 0.9974\n",
            "Epoch 30/50\n",
            "60000/60000 [==============================] - 7s 117us/step - loss: 2.4992e-04 - coeff_determination: 0.9974 - val_loss: 2.4097e-04 - val_coeff_determination: 0.9975\n",
            "Epoch 31/50\n",
            "60000/60000 [==============================] - 7s 120us/step - loss: 2.4443e-04 - coeff_determination: 0.9974 - val_loss: 2.6166e-04 - val_coeff_determination: 0.9973\n",
            "Epoch 32/50\n",
            "60000/60000 [==============================] - 7s 118us/step - loss: 2.4467e-04 - coeff_determination: 0.9974 - val_loss: 2.4891e-04 - val_coeff_determination: 0.9974\n",
            "Epoch 33/50\n",
            "60000/60000 [==============================] - 7s 119us/step - loss: 2.3998e-04 - coeff_determination: 0.9975 - val_loss: 2.2376e-04 - val_coeff_determination: 0.9977\n",
            "Epoch 34/50\n",
            "60000/60000 [==============================] - 7s 118us/step - loss: 2.3898e-04 - coeff_determination: 0.9975 - val_loss: 2.3936e-04 - val_coeff_determination: 0.9975\n",
            "Epoch 35/50\n",
            "60000/60000 [==============================] - 7s 119us/step - loss: 2.3631e-04 - coeff_determination: 0.9975 - val_loss: 2.2323e-04 - val_coeff_determination: 0.9977\n",
            "Epoch 36/50\n",
            "60000/60000 [==============================] - 7s 119us/step - loss: 2.3231e-04 - coeff_determination: 0.9976 - val_loss: 2.2444e-04 - val_coeff_determination: 0.9977\n",
            "Epoch 37/50\n",
            "60000/60000 [==============================] - 7s 118us/step - loss: 2.3138e-04 - coeff_determination: 0.9976 - val_loss: 2.3180e-04 - val_coeff_determination: 0.9976\n",
            "Epoch 38/50\n",
            "60000/60000 [==============================] - 7s 118us/step - loss: 2.3555e-04 - coeff_determination: 0.9975 - val_loss: 2.2865e-04 - val_coeff_determination: 0.9976\n",
            "Epoch 39/50\n",
            "60000/60000 [==============================] - 7s 117us/step - loss: 2.2753e-04 - coeff_determination: 0.9976 - val_loss: 2.3877e-04 - val_coeff_determination: 0.9975\n",
            "Epoch 40/50\n",
            "60000/60000 [==============================] - 7s 116us/step - loss: 2.2641e-04 - coeff_determination: 0.9976 - val_loss: 2.4773e-04 - val_coeff_determination: 0.9974\n",
            "Epoch 41/50\n",
            "60000/60000 [==============================] - 7s 118us/step - loss: 2.4200e-04 - coeff_determination: 0.9974 - val_loss: 4.2088e-04 - val_coeff_determination: 0.9956\n",
            "Epoch 42/50\n",
            "60000/60000 [==============================] - 7s 118us/step - loss: 2.1735e-04 - coeff_determination: 0.9977 - val_loss: 2.1962e-04 - val_coeff_determination: 0.9977\n",
            "Epoch 43/50\n",
            "60000/60000 [==============================] - 7s 118us/step - loss: 2.2068e-04 - coeff_determination: 0.9977 - val_loss: 2.1647e-04 - val_coeff_determination: 0.9977\n",
            "Epoch 44/50\n",
            "60000/60000 [==============================] - 7s 120us/step - loss: 2.1871e-04 - coeff_determination: 0.9977 - val_loss: 2.5016e-04 - val_coeff_determination: 0.9974\n",
            "Epoch 45/50\n",
            "60000/60000 [==============================] - 7s 118us/step - loss: 2.2061e-04 - coeff_determination: 0.9977 - val_loss: 2.2829e-04 - val_coeff_determination: 0.9976\n",
            "Epoch 46/50\n",
            "60000/60000 [==============================] - 7s 117us/step - loss: 2.1940e-04 - coeff_determination: 0.9977 - val_loss: 2.2649e-04 - val_coeff_determination: 0.9976\n",
            "Epoch 47/50\n",
            "60000/60000 [==============================] - 7s 118us/step - loss: 2.1588e-04 - coeff_determination: 0.9977 - val_loss: 2.1579e-04 - val_coeff_determination: 0.9977\n",
            "Epoch 48/50\n",
            "60000/60000 [==============================] - 7s 117us/step - loss: 2.1813e-04 - coeff_determination: 0.9977 - val_loss: 2.2382e-04 - val_coeff_determination: 0.9977\n",
            "Epoch 49/50\n",
            "60000/60000 [==============================] - 7s 117us/step - loss: 2.1780e-04 - coeff_determination: 0.9977 - val_loss: 2.0258e-04 - val_coeff_determination: 0.9979\n",
            "Epoch 50/50\n",
            "60000/60000 [==============================] - 7s 118us/step - loss: 2.1370e-04 - coeff_determination: 0.9977 - val_loss: 2.5276e-04 - val_coeff_determination: 0.9974\n"
          ],
          "name": "stdout"
        },
        {
          "output_type": "execute_result",
          "data": {
            "text/plain": [
              "<keras.callbacks.callbacks.History at 0x7f5a56cfed30>"
            ]
          },
          "metadata": {
            "tags": []
          },
          "execution_count": 18
        }
      ]
    },
    {
      "cell_type": "code",
      "metadata": {
        "id": "VsVytqEOg-Cd",
        "colab_type": "code",
        "colab": {
          "base_uri": "https://localhost:8080/",
          "height": 248
        },
        "outputId": "57093165-6edb-4f91-c8c5-6d25de72108c"
      },
      "source": [
        "#visualizacion de la decodificacion\n",
        "decoded_imgs = autoencoder.predict(X_test)\n",
        "\n",
        "n = 7\n",
        "plt.figure(figsize=(14, 4))\n",
        "for i in range(n):\n",
        "    i = i + 1\n",
        "    # display original\n",
        "    ax = plt.subplot(2, n, i)\n",
        "    plt.imshow(X_test[i].reshape(28, 28))\n",
        "    plt.gray()\n",
        "    ax.get_xaxis().set_visible(False)\n",
        "    ax.get_yaxis().set_visible(False)\n",
        "\n",
        "    # display reconstruction\n",
        "    ax = plt.subplot(2, n, i+n)\n",
        "    plt.imshow(decoded_imgs[i].reshape(28, 28))\n",
        "    plt.gray()\n",
        "    ax.get_xaxis().set_visible(False)\n",
        "    ax.get_yaxis().set_visible(False)\n",
        "plt.show()"
      ],
      "execution_count": 19,
      "outputs": [
        {
          "output_type": "display_data",
          "data": {
            "image/png": "[encoded data removed]",
            "text/plain": [
              "<Figure size 1008x288 with 14 Axes>"
            ]
          },
          "metadata": {
            "tags": []
          }
        }
      ]
    }
  ]
}