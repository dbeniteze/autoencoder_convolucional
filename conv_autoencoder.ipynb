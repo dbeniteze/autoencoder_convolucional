{
  "nbformat": 4,
  "nbformat_minor": 0,
  "metadata": {
    "colab": {
      "name": "conv_autoencoder.ipynb",
      "provenance": [],
      "collapsed_sections": [],
      "toc_visible": true,
      "authorship_tag": "ABX9TyP8rWqHgHxILVfMNted4fUU",
      "include_colab_link": true
    },
    "kernelspec": {
      "name": "python3",
      "display_name": "Python 3"
    },
    "accelerator": "GPU"
  },
  "cells": [
    {
      "cell_type": "markdown",
      "metadata": {
        "id": "view-in-github",
        "colab_type": "text"
      },
      "source": [
        "<a href=\"https://colab.research.google.com/github/dbeniteze/autoencoder_convolucional/blob/master/conv_autoencoder.ipynb\" target=\"_parent\"><img src=\"https://colab.research.google.com/assets/colab-badge.svg\" alt=\"Open In Colab\"/></a>"
      ]
    },
    {
      "cell_type": "code",
      "metadata": {
        "id": "LvCGvOKYgDVf",
        "colab_type": "code",
        "colab": {
          "base_uri": "https://localhost:8080/",
          "height": 187
        },
        "outputId": "7dcd0559-95c7-49ab-b507-d5e3989069f2"
      },
      "source": [
        "!pip3 install keras==2.3.1\n",
        "\n",
        "%tensorflow_version 2.x\n",
        "import tensorflow as tf\n",
        "device_name = tf.test.gpu_device_name()\n",
        "if device_name != '/device:GPU:0':\n",
        "  raise SystemError('GPU device not found')\n",
        "print('Found GPU at: {}'.format(device_name))"
      ],
      "execution_count": 1,
      "outputs": [
        {
          "output_type": "stream",
          "text": [
            "Requirement already satisfied: keras==2.3.1 in /usr/local/lib/python3.6/dist-packages (2.3.1)\n",
            "Requirement already satisfied: pyyaml in /usr/local/lib/python3.6/dist-packages (from keras==2.3.1) (3.13)\n",
            "Requirement already satisfied: keras-applications>=1.0.6 in /usr/local/lib/python3.6/dist-packages (from keras==2.3.1) (1.0.8)\n",
            "Requirement already satisfied: numpy>=1.9.1 in /usr/local/lib/python3.6/dist-packages (from keras==2.3.1) (1.17.5)\n",
            "Requirement already satisfied: h5py in /usr/local/lib/python3.6/dist-packages (from keras==2.3.1) (2.8.0)\n",
            "Requirement already satisfied: six>=1.9.0 in /usr/local/lib/python3.6/dist-packages (from keras==2.3.1) (1.12.0)\n",
            "Requirement already satisfied: keras-preprocessing>=1.0.5 in /usr/local/lib/python3.6/dist-packages (from keras==2.3.1) (1.1.0)\n",
            "Requirement already satisfied: scipy>=0.14 in /usr/local/lib/python3.6/dist-packages (from keras==2.3.1) (1.4.1)\n",
            "TensorFlow 2.x selected.\n",
            "Found GPU at: /device:GPU:0\n"
          ],
          "name": "stdout"
        }
      ]
    },
    {
      "cell_type": "code",
      "metadata": {
        "id": "qoJIAQUigGRf",
        "colab_type": "code",
        "colab": {}
      },
      "source": [
        "# Larger CNN for the MNIST Dataset\n",
        "from keras import backend as K\n",
        "from keras.datasets import mnist\n",
        "from keras.models import Sequential\n",
        "from keras.layers import Dense\n",
        "from keras.layers import Dropout, Reshape\n",
        "from keras.layers import Flatten, BatchNormalization\n",
        "from keras.layers import LeakyReLU\n",
        "from keras.layers.convolutional import Conv2D\n",
        "from keras.layers.convolutional import MaxPooling2D\n",
        "from keras.utils import np_utils\n",
        "from matplotlib import pyplot as plt\n",
        "import numpy as np\n",
        "from keras.layers import Input, Dense, Conv2D, MaxPooling2D, UpSampling2D, Conv2DTranspose\n",
        "from keras.models import Model\n",
        "from keras import backend as K\n",
        "# load data\n",
        "(X_train, y_train), (X_test, y_test) = mnist.load_data()\n",
        "# reshape to be [samples][width][height][channels]\n",
        "X_train = X_train.reshape((X_train.shape[0], 28, 28, 1)).astype('float32')\n",
        "X_test = X_test.reshape((X_test.shape[0], 28, 28, 1)).astype('float32')\n",
        "# normalize inputs from 0-255 to 0-1\n",
        "X_train = X_train / 255\n",
        "X_test = X_test / 255\n"
      ],
      "execution_count": 0,
      "outputs": []
    },
    {
      "cell_type": "code",
      "metadata": {
        "id": "E19oJS3_gc8W",
        "colab_type": "code",
        "colab": {}
      },
      "source": [
        "# autoencoder simple con upsampling\n",
        "input_img = Input(shape=(28, 28, 1))  # adapt this if using `channels_first` image data format\n",
        "LF = (5,5)\n",
        "x = Conv2D(16, LF, activation='relu', padding='same')(input_img)\n",
        "x = MaxPooling2D((2, 2), padding='same')(x)\n",
        "x = Conv2D(8, LF, activation='relu', padding='same')(x)\n",
        "x = MaxPooling2D((2, 2), padding='same')(x)\n",
        "x = Conv2D(8, LF, activation='relu', padding='same')(x)\n",
        "encoded = MaxPooling2D((2, 2), padding='same')(x)\n",
        "\n",
        "# at this point the representation is (4, 4, 8) i.e. 128-dimensional\n",
        "\n",
        "x = Conv2D(8, (3,3), activation='relu', padding='same')(encoded)\n",
        "x = UpSampling2D((2, 2))(x)\n",
        "x = Conv2D(8, (3,3), activation='relu', padding='same')(x)\n",
        "x = UpSampling2D((2, 2))(x)\n",
        "x = Conv2D(16, (3,3), activation='relu')(x)\n",
        "x = UpSampling2D((2, 2))(x)\n",
        "decoded = Conv2D(1, (3,3), activation='sigmoid', padding='same')(x)\n",
        "\n",
        "autoencoder = Model(input_img, decoded)\n",
        "autoencoder.summary()"
      ],
      "execution_count": 0,
      "outputs": []
    },
    {
      "cell_type": "code",
      "metadata": {
        "id": "-5cmI7s-zIMZ",
        "colab_type": "code",
        "colab": {
          "base_uri": "https://localhost:8080/",
          "height": 425
        },
        "outputId": "91e96c91-67c9-4e47-b7b8-15d55ebe92ea"
      },
      "source": [
        "#autoencoder con Conv2DTranspose\n",
        "input_img = Input(shape=(28, 28, 1))  # adapt this if using `channels_first` image data format\n",
        "LF = (5,5)\n",
        "x = Conv2D(32, kernel_size=LF, activation='relu')(input_img)\n",
        "x = Conv2D(16, kernel_size=LF, activation='relu')(x)\n",
        "encoded = Conv2D(8, kernel_size=LF, activation='relu')(x)\n",
        "\n",
        "x = Conv2DTranspose(8, kernel_size=LF, activation='relu')(encoded)\n",
        "x = Conv2DTranspose(16, kernel_size=LF, activation='relu')(x)\n",
        "x = Conv2DTranspose(32, kernel_size=LF, activation='relu')(x)\n",
        "decoded = Conv2D(1, kernel_size=(3, 3), activation='sigmoid', padding='same')(x)\n",
        "\n",
        "autoencoder = Model(input_img, decoded)\n",
        "autoencoder.summary()"
      ],
      "execution_count": 71,
      "outputs": [
        {
          "output_type": "stream",
          "text": [
            "Model: \"model_16\"\n",
            "_________________________________________________________________\n",
            "Layer (type)                 Output Shape              Param #   \n",
            "=================================================================\n",
            "input_17 (InputLayer)        (None, 28, 28, 1)         0         \n",
            "_________________________________________________________________\n",
            "conv2d_106 (Conv2D)          (None, 24, 24, 32)        832       \n",
            "_________________________________________________________________\n",
            "conv2d_107 (Conv2D)          (None, 20, 20, 16)        12816     \n",
            "_________________________________________________________________\n",
            "conv2d_108 (Conv2D)          (None, 16, 16, 8)         3208      \n",
            "_________________________________________________________________\n",
            "conv2d_transpose_4 (Conv2DTr (None, 20, 20, 8)         1608      \n",
            "_________________________________________________________________\n",
            "conv2d_transpose_5 (Conv2DTr (None, 24, 24, 16)        3216      \n",
            "_________________________________________________________________\n",
            "conv2d_transpose_6 (Conv2DTr (None, 28, 28, 32)        12832     \n",
            "_________________________________________________________________\n",
            "conv2d_109 (Conv2D)          (None, 28, 28, 1)         289       \n",
            "=================================================================\n",
            "Total params: 34,801\n",
            "Trainable params: 34,801\n",
            "Non-trainable params: 0\n",
            "_________________________________________________________________\n"
          ],
          "name": "stdout"
        }
      ]
    },
    {
      "cell_type": "code",
      "metadata": {
        "id": "N4-YSIs6zFa6",
        "colab_type": "code",
        "colab": {
          "base_uri": "https://localhost:8080/",
          "height": 1000
        },
        "outputId": "b3241ce5-5bd9-4c51-839c-258ce8f2b93d"
      },
      "source": [
        "def coeff_determination(y_true, y_pred):\n",
        "    SS_res =  K.sum(K.square( y_true-y_pred ))\n",
        "    SS_tot = K.sum(K.square( y_true - K.mean(y_true) ) )\n",
        "    return ( 1 - SS_res/(SS_tot + K.epsilon()) )\n",
        "\n",
        "autoencoder.compile(optimizer='adadelta',  loss='mean_squared_error', metrics=[coeff_determination])\n",
        "\n",
        "autoencoder.fit(X_train, X_train,\n",
        "                epochs=50,\n",
        "                batch_size=128,\n",
        "                shuffle=True,\n",
        "                validation_data=(X_test, X_test))\n"
      ],
      "execution_count": 73,
      "outputs": [
        {
          "output_type": "stream",
          "text": [
            "Train on 60000 samples, validate on 10000 samples\n",
            "Epoch 1/50\n",
            "60000/60000 [==============================] - 8s 130us/step - loss: 0.0281 - coeff_determination: 0.7044 - val_loss: 0.0074 - val_coeff_determination: 0.9220\n",
            "Epoch 2/50\n",
            "60000/60000 [==============================] - 7s 119us/step - loss: 0.0060 - coeff_determination: 0.9366 - val_loss: 0.0045 - val_coeff_determination: 0.9522\n",
            "Epoch 3/50\n",
            "60000/60000 [==============================] - 7s 120us/step - loss: 0.0041 - coeff_determination: 0.9565 - val_loss: 0.0048 - val_coeff_determination: 0.9499\n",
            "Epoch 4/50\n",
            "60000/60000 [==============================] - 7s 121us/step - loss: 0.0032 - coeff_determination: 0.9665 - val_loss: 0.0025 - val_coeff_determination: 0.9734\n",
            "Epoch 5/50\n",
            "60000/60000 [==============================] - 7s 120us/step - loss: 0.0026 - coeff_determination: 0.9723 - val_loss: 0.0024 - val_coeff_determination: 0.9745\n",
            "Epoch 6/50\n",
            "60000/60000 [==============================] - 7s 120us/step - loss: 0.0023 - coeff_determination: 0.9760 - val_loss: 0.0021 - val_coeff_determination: 0.9774\n",
            "Epoch 7/50\n",
            "60000/60000 [==============================] - 7s 121us/step - loss: 0.0020 - coeff_determination: 0.9787 - val_loss: 0.0020 - val_coeff_determination: 0.9792\n",
            "Epoch 8/50\n",
            "60000/60000 [==============================] - 7s 120us/step - loss: 0.0018 - coeff_determination: 0.9808 - val_loss: 0.0018 - val_coeff_determination: 0.9813\n",
            "Epoch 9/50\n",
            "60000/60000 [==============================] - 7s 121us/step - loss: 0.0017 - coeff_determination: 0.9824 - val_loss: 0.0015 - val_coeff_determination: 0.9844\n",
            "Epoch 10/50\n",
            "60000/60000 [==============================] - 7s 120us/step - loss: 0.0015 - coeff_determination: 0.9837 - val_loss: 0.0014 - val_coeff_determination: 0.9850\n",
            "Epoch 11/50\n",
            "60000/60000 [==============================] - 7s 120us/step - loss: 0.0014 - coeff_determination: 0.9848 - val_loss: 0.0014 - val_coeff_determination: 0.9855\n",
            "Epoch 12/50\n",
            "60000/60000 [==============================] - 7s 122us/step - loss: 0.0014 - coeff_determination: 0.9856 - val_loss: 0.0012 - val_coeff_determination: 0.9869\n",
            "Epoch 13/50\n",
            "60000/60000 [==============================] - 7s 121us/step - loss: 0.0013 - coeff_determination: 0.9865 - val_loss: 0.0011 - val_coeff_determination: 0.9880\n",
            "Epoch 14/50\n",
            "60000/60000 [==============================] - 7s 120us/step - loss: 0.0012 - coeff_determination: 0.9871 - val_loss: 0.0011 - val_coeff_determination: 0.9885\n",
            "Epoch 15/50\n",
            "60000/60000 [==============================] - 7s 121us/step - loss: 0.0012 - coeff_determination: 0.9877 - val_loss: 0.0011 - val_coeff_determination: 0.9886\n",
            "Epoch 16/50\n",
            "60000/60000 [==============================] - 7s 120us/step - loss: 0.0011 - coeff_determination: 0.9883 - val_loss: 0.0010 - val_coeff_determination: 0.9889\n",
            "Epoch 17/50\n",
            "60000/60000 [==============================] - 7s 121us/step - loss: 0.0011 - coeff_determination: 0.9887 - val_loss: 9.8813e-04 - val_coeff_determination: 0.9896\n",
            "Epoch 18/50\n",
            "60000/60000 [==============================] - 7s 119us/step - loss: 0.0010 - coeff_determination: 0.9891 - val_loss: 9.6817e-04 - val_coeff_determination: 0.9898\n",
            "Epoch 19/50\n",
            "60000/60000 [==============================] - 7s 120us/step - loss: 9.9654e-04 - coeff_determination: 0.9895 - val_loss: 0.0011 - val_coeff_determination: 0.9888\n",
            "Epoch 20/50\n",
            "60000/60000 [==============================] - 7s 120us/step - loss: 9.6867e-04 - coeff_determination: 0.9898 - val_loss: 9.6067e-04 - val_coeff_determination: 0.9899\n",
            "Epoch 21/50\n",
            "60000/60000 [==============================] - 7s 120us/step - loss: 9.2868e-04 - coeff_determination: 0.9902 - val_loss: 9.9969e-04 - val_coeff_determination: 0.9894\n",
            "Epoch 22/50\n",
            "60000/60000 [==============================] - 7s 121us/step - loss: 9.0726e-04 - coeff_determination: 0.9904 - val_loss: 9.1937e-04 - val_coeff_determination: 0.9903\n",
            "Epoch 23/50\n",
            "60000/60000 [==============================] - 7s 121us/step - loss: 8.7434e-04 - coeff_determination: 0.9908 - val_loss: 7.8296e-04 - val_coeff_determination: 0.9917\n",
            "Epoch 24/50\n",
            "60000/60000 [==============================] - 7s 123us/step - loss: 8.5680e-04 - coeff_determination: 0.9910 - val_loss: 8.5863e-04 - val_coeff_determination: 0.9909\n",
            "Epoch 25/50\n",
            "60000/60000 [==============================] - 7s 121us/step - loss: 8.3562e-04 - coeff_determination: 0.9912 - val_loss: 8.3831e-04 - val_coeff_determination: 0.9911\n",
            "Epoch 26/50\n",
            "60000/60000 [==============================] - 7s 122us/step - loss: 8.0764e-04 - coeff_determination: 0.9915 - val_loss: 8.1415e-04 - val_coeff_determination: 0.9914\n",
            "Epoch 27/50\n",
            "60000/60000 [==============================] - 7s 120us/step - loss: 7.9804e-04 - coeff_determination: 0.9916 - val_loss: 7.2886e-04 - val_coeff_determination: 0.9923\n",
            "Epoch 28/50\n",
            "60000/60000 [==============================] - 7s 122us/step - loss: 7.7576e-04 - coeff_determination: 0.9918 - val_loss: 7.2226e-04 - val_coeff_determination: 0.9924\n",
            "Epoch 29/50\n",
            "60000/60000 [==============================] - 7s 121us/step - loss: 7.5916e-04 - coeff_determination: 0.9920 - val_loss: 6.9783e-04 - val_coeff_determination: 0.9926\n",
            "Epoch 30/50\n",
            "60000/60000 [==============================] - 7s 119us/step - loss: 7.4178e-04 - coeff_determination: 0.9922 - val_loss: 7.5597e-04 - val_coeff_determination: 0.9920\n",
            "Epoch 31/50\n",
            "60000/60000 [==============================] - 7s 121us/step - loss: 7.3672e-04 - coeff_determination: 0.9922 - val_loss: 7.3795e-04 - val_coeff_determination: 0.9922\n",
            "Epoch 32/50\n",
            "60000/60000 [==============================] - 7s 120us/step - loss: 7.1493e-04 - coeff_determination: 0.9925 - val_loss: 6.9638e-04 - val_coeff_determination: 0.9926\n",
            "Epoch 33/50\n",
            "60000/60000 [==============================] - 7s 120us/step - loss: 6.9197e-04 - coeff_determination: 0.9927 - val_loss: 6.3870e-04 - val_coeff_determination: 0.9933\n",
            "Epoch 34/50\n",
            "60000/60000 [==============================] - 7s 122us/step - loss: 6.9356e-04 - coeff_determination: 0.9927 - val_loss: 6.6850e-04 - val_coeff_determination: 0.9930\n",
            "Epoch 35/50\n",
            "60000/60000 [==============================] - 7s 122us/step - loss: 6.7657e-04 - coeff_determination: 0.9929 - val_loss: 6.2974e-04 - val_coeff_determination: 0.9933\n",
            "Epoch 36/50\n",
            "60000/60000 [==============================] - 7s 122us/step - loss: 6.6257e-04 - coeff_determination: 0.9930 - val_loss: 6.5583e-04 - val_coeff_determination: 0.9931\n",
            "Epoch 37/50\n",
            "60000/60000 [==============================] - 7s 122us/step - loss: 6.5727e-04 - coeff_determination: 0.9931 - val_loss: 6.1435e-04 - val_coeff_determination: 0.9935\n",
            "Epoch 38/50\n",
            "60000/60000 [==============================] - 7s 122us/step - loss: 6.4583e-04 - coeff_determination: 0.9932 - val_loss: 5.8867e-04 - val_coeff_determination: 0.9938\n",
            "Epoch 39/50\n",
            "60000/60000 [==============================] - 7s 121us/step - loss: 6.3168e-04 - coeff_determination: 0.9933 - val_loss: 6.1025e-04 - val_coeff_determination: 0.9936\n",
            "Epoch 40/50\n",
            "60000/60000 [==============================] - 7s 122us/step - loss: 6.2400e-04 - coeff_determination: 0.9934 - val_loss: 7.1667e-04 - val_coeff_determination: 0.9924\n",
            "Epoch 41/50\n",
            "60000/60000 [==============================] - 7s 122us/step - loss: 6.1512e-04 - coeff_determination: 0.9935 - val_loss: 6.0568e-04 - val_coeff_determination: 0.9936\n",
            "Epoch 42/50\n",
            "60000/60000 [==============================] - 7s 121us/step - loss: 5.9926e-04 - coeff_determination: 0.9937 - val_loss: 5.6033e-04 - val_coeff_determination: 0.9941\n",
            "Epoch 43/50\n",
            "60000/60000 [==============================] - 7s 121us/step - loss: 5.9860e-04 - coeff_determination: 0.9937 - val_loss: 6.0118e-04 - val_coeff_determination: 0.9937\n",
            "Epoch 44/50\n",
            "60000/60000 [==============================] - 7s 120us/step - loss: 5.9433e-04 - coeff_determination: 0.9937 - val_loss: 5.9340e-04 - val_coeff_determination: 0.9937\n",
            "Epoch 45/50\n",
            "60000/60000 [==============================] - 7s 122us/step - loss: 5.7561e-04 - coeff_determination: 0.9939 - val_loss: 5.2651e-04 - val_coeff_determination: 0.9944\n",
            "Epoch 46/50\n",
            "60000/60000 [==============================] - 7s 120us/step - loss: 5.7015e-04 - coeff_determination: 0.9940 - val_loss: 5.5107e-04 - val_coeff_determination: 0.9942\n",
            "Epoch 47/50\n",
            "60000/60000 [==============================] - 7s 121us/step - loss: 5.6379e-04 - coeff_determination: 0.9941 - val_loss: 5.3043e-04 - val_coeff_determination: 0.9944\n",
            "Epoch 48/50\n",
            "60000/60000 [==============================] - 7s 122us/step - loss: 5.5738e-04 - coeff_determination: 0.9941 - val_loss: 5.0619e-04 - val_coeff_determination: 0.9947\n",
            "Epoch 49/50\n",
            "60000/60000 [==============================] - 7s 121us/step - loss: 5.5047e-04 - coeff_determination: 0.9942 - val_loss: 5.0534e-04 - val_coeff_determination: 0.9947\n",
            "Epoch 50/50\n",
            "60000/60000 [==============================] - 7s 122us/step - loss: 5.4082e-04 - coeff_determination: 0.9943 - val_loss: 4.8616e-04 - val_coeff_determination: 0.9949\n"
          ],
          "name": "stdout"
        },
        {
          "output_type": "execute_result",
          "data": {
            "text/plain": [
              "<keras.callbacks.callbacks.History at 0x7f8a7ece2b70>"
            ]
          },
          "metadata": {
            "tags": []
          },
          "execution_count": 73
        }
      ]
    },
    {
      "cell_type": "code",
      "metadata": {
        "id": "VsVytqEOg-Cd",
        "colab_type": "code",
        "colab": {
          "base_uri": "https://localhost:8080/",
          "height": 248
        },
        "outputId": "befdbc00-fcd9-4da7-9667-886568884595"
      },
      "source": [
        "#visualizacion de la decodificacion\n",
        "decoded_imgs = autoencoder.predict(X_test)\n",
        "\n",
        "n = 7\n",
        "plt.figure(figsize=(14, 4))\n",
        "for i in range(n):\n",
        "    i = i + 1\n",
        "    # display original\n",
        "    ax = plt.subplot(2, n, i)\n",
        "    plt.imshow(X_test[i].reshape(28, 28))\n",
        "    plt.gray()\n",
        "    ax.get_xaxis().set_visible(False)\n",
        "    ax.get_yaxis().set_visible(False)\n",
        "\n",
        "    # display reconstruction\n",
        "    ax = plt.subplot(2, n, i+n)\n",
        "    plt.imshow(decoded_imgs[i].reshape(28, 28))\n",
        "    plt.gray()\n",
        "    ax.get_xaxis().set_visible(False)\n",
        "    ax.get_yaxis().set_visible(False)\n",
        "plt.show()"
      ],
      "execution_count": 74,
      "outputs": [
        {
          "output_type": "display_data",
          "data": {
            "image/png": "[encoded data removed]",
            "text/plain": [
              "<Figure size 1008x288 with 14 Axes>"
            ]
          },
          "metadata": {
            "tags": []
          }
        }
      ]
    }
  ]
}