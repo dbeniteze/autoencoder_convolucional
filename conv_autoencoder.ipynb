{
  "nbformat": 4,
  "nbformat_minor": 0,
  "metadata": {
    "colab": {
      "name": "conv_autoencoder.ipynb",
      "provenance": [],
      "collapsed_sections": [],
      "toc_visible": true,
      "authorship_tag": "ABX9TyP/eOped0m8aw84Q9+LlyFc",
      "include_colab_link": true
    },
    "kernelspec": {
      "name": "python3",
      "display_name": "Python 3"
    },
    "accelerator": "GPU"
  },
  "cells": [
    {
      "cell_type": "markdown",
      "metadata": {
        "id": "view-in-github",
        "colab_type": "text"
      },
      "source": [
        "<a href=\"https://colab.research.google.com/github/dbeniteze/autoencoder_convolucional/blob/master/conv_autoencoder.ipynb\" target=\"_parent\"><img src=\"https://colab.research.google.com/assets/colab-badge.svg\" alt=\"Open In Colab\"/></a>"
      ]
    },
    {
      "cell_type": "code",
      "metadata": {
        "id": "LvCGvOKYgDVf",
        "colab_type": "code",
        "colab": {
          "base_uri": "https://localhost:8080/",
          "height": 187
        },
        "outputId": "7dcd0559-95c7-49ab-b507-d5e3989069f2"
      },
      "source": [
        "!pip3 install keras==2.3.1\n",
        "\n",
        "%tensorflow_version 2.x\n",
        "import tensorflow as tf\n",
        "device_name = tf.test.gpu_device_name()\n",
        "if device_name != '/device:GPU:0':\n",
        "  raise SystemError('GPU device not found')\n",
        "print('Found GPU at: {}'.format(device_name))"
      ],
      "execution_count": 1,
      "outputs": [
        {
          "output_type": "stream",
          "text": [
            "Requirement already satisfied: keras==2.3.1 in /usr/local/lib/python3.6/dist-packages (2.3.1)\n",
            "Requirement already satisfied: pyyaml in /usr/local/lib/python3.6/dist-packages (from keras==2.3.1) (3.13)\n",
            "Requirement already satisfied: keras-applications>=1.0.6 in /usr/local/lib/python3.6/dist-packages (from keras==2.3.1) (1.0.8)\n",
            "Requirement already satisfied: numpy>=1.9.1 in /usr/local/lib/python3.6/dist-packages (from keras==2.3.1) (1.17.5)\n",
            "Requirement already satisfied: h5py in /usr/local/lib/python3.6/dist-packages (from keras==2.3.1) (2.8.0)\n",
            "Requirement already satisfied: six>=1.9.0 in /usr/local/lib/python3.6/dist-packages (from keras==2.3.1) (1.12.0)\n",
            "Requirement already satisfied: keras-preprocessing>=1.0.5 in /usr/local/lib/python3.6/dist-packages (from keras==2.3.1) (1.1.0)\n",
            "Requirement already satisfied: scipy>=0.14 in /usr/local/lib/python3.6/dist-packages (from keras==2.3.1) (1.4.1)\n",
            "TensorFlow 2.x selected.\n",
            "Found GPU at: /device:GPU:0\n"
          ],
          "name": "stdout"
        }
      ]
    },
    {
      "cell_type": "code",
      "metadata": {
        "id": "qoJIAQUigGRf",
        "colab_type": "code",
        "colab": {}
      },
      "source": [
        "# Larger CNN for the MNIST Dataset\n",
        "from keras import backend as K\n",
        "from keras.datasets import mnist\n",
        "from keras.models import Sequential\n",
        "from keras.layers import Dense\n",
        "from keras.layers import Dropout, Reshape\n",
        "from keras.layers import Flatten, BatchNormalization\n",
        "from keras.layers import LeakyReLU\n",
        "from keras.layers.convolutional import Conv2D\n",
        "from keras.layers.convolutional import MaxPooling2D\n",
        "from keras.utils import np_utils\n",
        "from matplotlib import pyplot as plt\n",
        "import numpy as np\n",
        "# load data\n",
        "(X_train, y_train), (X_test, y_test) = mnist.load_data()\n",
        "# reshape to be [samples][width][height][channels]\n",
        "X_train = X_train.reshape((X_train.shape[0], 28, 28, 1)).astype('float32')\n",
        "X_test = X_test.reshape((X_test.shape[0], 28, 28, 1)).astype('float32')\n",
        "# normalize inputs from 0-255 to 0-1\n",
        "X_train = X_train / 255\n",
        "X_test = X_test / 255\n"
      ],
      "execution_count": 0,
      "outputs": []
    },
    {
      "cell_type": "code",
      "metadata": {
        "id": "E19oJS3_gc8W",
        "colab_type": "code",
        "colab": {
          "base_uri": "https://localhost:8080/",
          "height": 629
        },
        "outputId": "20709896-3935-40dc-ce6f-3291e8ac2bc4"
      },
      "source": [
        "from keras.layers import Input, Dense, Conv2D, MaxPooling2D, UpSampling2D\n",
        "from keras.models import Model\n",
        "from keras import backend as K\n",
        "\n",
        "input_img = Input(shape=(28, 28, 1))  # adapt this if using `channels_first` image data format\n",
        "\n",
        "x = Conv2D(16, (3, 3), activation='relu', padding='same')(input_img)\n",
        "x = MaxPooling2D((2, 2), padding='same')(x)\n",
        "x = Conv2D(8, (3, 3), activation='relu', padding='same')(x)\n",
        "x = MaxPooling2D((2, 2), padding='same')(x)\n",
        "x = Conv2D(8, (3, 3), activation='relu', padding='same')(x)\n",
        "encoded = MaxPooling2D((2, 2), padding='same')(x)\n",
        "\n",
        "# at this point the representation is (4, 4, 8) i.e. 128-dimensional\n",
        "\n",
        "x = Conv2D(8, (3, 3), activation='relu', padding='same')(encoded)\n",
        "x = UpSampling2D((2, 2))(x)\n",
        "x = Conv2D(8, (3, 3), activation='relu', padding='same')(x)\n",
        "x = UpSampling2D((2, 2))(x)\n",
        "x = Conv2D(16, (3, 3), activation='relu')(x)\n",
        "x = UpSampling2D((2, 2))(x)\n",
        "decoded = Conv2D(1, (3, 3), activation='sigmoid', padding='same')(x)\n",
        "\n",
        "autoencoder = Model(input_img, decoded)\n",
        "autoencoder.compile(optimizer='adadelta', loss='binary_crossentropy')\n",
        "autoencoder.summary()"
      ],
      "execution_count": 6,
      "outputs": [
        {
          "output_type": "stream",
          "text": [
            "Model: \"model_2\"\n",
            "_________________________________________________________________\n",
            "Layer (type)                 Output Shape              Param #   \n",
            "=================================================================\n",
            "input_2 (InputLayer)         (None, 28, 28, 1)         0         \n",
            "_________________________________________________________________\n",
            "conv2d_8 (Conv2D)            (None, 28, 28, 16)        160       \n",
            "_________________________________________________________________\n",
            "max_pooling2d_4 (MaxPooling2 (None, 14, 14, 16)        0         \n",
            "_________________________________________________________________\n",
            "conv2d_9 (Conv2D)            (None, 14, 14, 8)         1160      \n",
            "_________________________________________________________________\n",
            "max_pooling2d_5 (MaxPooling2 (None, 7, 7, 8)           0         \n",
            "_________________________________________________________________\n",
            "conv2d_10 (Conv2D)           (None, 7, 7, 8)           584       \n",
            "_________________________________________________________________\n",
            "max_pooling2d_6 (MaxPooling2 (None, 4, 4, 8)           0         \n",
            "_________________________________________________________________\n",
            "conv2d_11 (Conv2D)           (None, 4, 4, 8)           584       \n",
            "_________________________________________________________________\n",
            "up_sampling2d_4 (UpSampling2 (None, 8, 8, 8)           0         \n",
            "_________________________________________________________________\n",
            "conv2d_12 (Conv2D)           (None, 8, 8, 8)           584       \n",
            "_________________________________________________________________\n",
            "up_sampling2d_5 (UpSampling2 (None, 16, 16, 8)         0         \n",
            "_________________________________________________________________\n",
            "conv2d_13 (Conv2D)           (None, 14, 14, 16)        1168      \n",
            "_________________________________________________________________\n",
            "up_sampling2d_6 (UpSampling2 (None, 28, 28, 16)        0         \n",
            "_________________________________________________________________\n",
            "conv2d_14 (Conv2D)           (None, 28, 28, 1)         145       \n",
            "=================================================================\n",
            "Total params: 4,385\n",
            "Trainable params: 4,385\n",
            "Non-trainable params: 0\n",
            "_________________________________________________________________\n"
          ],
          "name": "stdout"
        }
      ]
    },
    {
      "cell_type": "code",
      "metadata": {
        "id": "Gq3w3i8IgnWQ",
        "colab_type": "code",
        "colab": {
          "base_uri": "https://localhost:8080/",
          "height": 1000
        },
        "outputId": "464c88f9-0c4e-4c87-d8e2-705d3391dc73"
      },
      "source": [
        "\n",
        "autoencoder.fit(X_train, X_train,\n",
        "                epochs=50,\n",
        "                batch_size=128,\n",
        "                shuffle=True,\n",
        "                validation_data=(X_test, X_test))"
      ],
      "execution_count": 9,
      "outputs": [
        {
          "output_type": "stream",
          "text": [
            "Train on 60000 samples, validate on 10000 samples\n",
            "Epoch 1/50\n",
            "60000/60000 [==============================] - 10s 171us/step - loss: 0.2059 - val_loss: 0.1651\n",
            "Epoch 2/50\n",
            "60000/60000 [==============================] - 4s 59us/step - loss: 0.1552 - val_loss: 0.1431\n",
            "Epoch 3/50\n",
            "60000/60000 [==============================] - 4s 59us/step - loss: 0.1424 - val_loss: 0.1369\n",
            "Epoch 4/50\n",
            "60000/60000 [==============================] - 4s 59us/step - loss: 0.1346 - val_loss: 0.1308\n",
            "Epoch 5/50\n",
            "60000/60000 [==============================] - 4s 59us/step - loss: 0.1292 - val_loss: 0.1255\n",
            "Epoch 6/50\n",
            "60000/60000 [==============================] - 4s 59us/step - loss: 0.1258 - val_loss: 0.1220\n",
            "Epoch 7/50\n",
            "60000/60000 [==============================] - 4s 58us/step - loss: 0.1232 - val_loss: 0.1197\n",
            "Epoch 8/50\n",
            "60000/60000 [==============================] - 4s 59us/step - loss: 0.1211 - val_loss: 0.1170\n",
            "Epoch 9/50\n",
            "60000/60000 [==============================] - 4s 59us/step - loss: 0.1192 - val_loss: 0.1167\n",
            "Epoch 10/50\n",
            "60000/60000 [==============================] - 4s 59us/step - loss: 0.1176 - val_loss: 0.1138\n",
            "Epoch 11/50\n",
            "60000/60000 [==============================] - 4s 59us/step - loss: 0.1162 - val_loss: 0.1141\n",
            "Epoch 12/50\n",
            "60000/60000 [==============================] - 4s 59us/step - loss: 0.1151 - val_loss: 0.1115\n",
            "Epoch 13/50\n",
            "60000/60000 [==============================] - 3s 58us/step - loss: 0.1142 - val_loss: 0.1107\n",
            "Epoch 14/50\n",
            "60000/60000 [==============================] - 4s 59us/step - loss: 0.1128 - val_loss: 0.1122\n",
            "Epoch 15/50\n",
            "60000/60000 [==============================] - 4s 59us/step - loss: 0.1123 - val_loss: 0.1080\n",
            "Epoch 16/50\n",
            "60000/60000 [==============================] - 4s 59us/step - loss: 0.1111 - val_loss: 0.1103\n",
            "Epoch 17/50\n",
            "60000/60000 [==============================] - 4s 60us/step - loss: 0.1105 - val_loss: 0.1094\n",
            "Epoch 18/50\n",
            "60000/60000 [==============================] - 4s 60us/step - loss: 0.1100 - val_loss: 0.1073\n",
            "Epoch 19/50\n",
            "60000/60000 [==============================] - 4s 59us/step - loss: 0.1095 - val_loss: 0.1074\n",
            "Epoch 20/50\n",
            "60000/60000 [==============================] - 3s 58us/step - loss: 0.1089 - val_loss: 0.1054\n",
            "Epoch 21/50\n",
            "60000/60000 [==============================] - 3s 58us/step - loss: 0.1083 - val_loss: 0.1035\n",
            "Epoch 22/50\n",
            "60000/60000 [==============================] - 3s 58us/step - loss: 0.1080 - val_loss: 0.1061\n",
            "Epoch 23/50\n",
            "60000/60000 [==============================] - 3s 58us/step - loss: 0.1075 - val_loss: 0.1064\n",
            "Epoch 24/50\n",
            "60000/60000 [==============================] - 4s 59us/step - loss: 0.1072 - val_loss: 0.1057\n",
            "Epoch 25/50\n",
            "60000/60000 [==============================] - 4s 59us/step - loss: 0.1068 - val_loss: 0.1049\n",
            "Epoch 26/50\n",
            "60000/60000 [==============================] - 4s 59us/step - loss: 0.1063 - val_loss: 0.1027\n",
            "Epoch 27/50\n",
            "60000/60000 [==============================] - 4s 59us/step - loss: 0.1061 - val_loss: 0.1040\n",
            "Epoch 28/50\n",
            "60000/60000 [==============================] - 4s 59us/step - loss: 0.1059 - val_loss: 0.1063\n",
            "Epoch 29/50\n",
            "60000/60000 [==============================] - 4s 58us/step - loss: 0.1058 - val_loss: 0.1019\n",
            "Epoch 30/50\n",
            "60000/60000 [==============================] - 3s 58us/step - loss: 0.1054 - val_loss: 0.1038\n",
            "Epoch 31/50\n",
            "60000/60000 [==============================] - 4s 59us/step - loss: 0.1052 - val_loss: 0.1067\n",
            "Epoch 32/50\n",
            "60000/60000 [==============================] - 3s 58us/step - loss: 0.1050 - val_loss: 0.1039\n",
            "Epoch 33/50\n",
            "60000/60000 [==============================] - 3s 58us/step - loss: 0.1045 - val_loss: 0.1050\n",
            "Epoch 34/50\n",
            "60000/60000 [==============================] - 3s 58us/step - loss: 0.1044 - val_loss: 0.1007\n",
            "Epoch 35/50\n",
            "60000/60000 [==============================] - 3s 58us/step - loss: 0.1043 - val_loss: 0.1069\n",
            "Epoch 36/50\n",
            "60000/60000 [==============================] - 3s 58us/step - loss: 0.1040 - val_loss: 0.1017\n",
            "Epoch 37/50\n",
            "60000/60000 [==============================] - 3s 58us/step - loss: 0.1038 - val_loss: 0.1028\n",
            "Epoch 38/50\n",
            "60000/60000 [==============================] - 3s 58us/step - loss: 0.1039 - val_loss: 0.1021\n",
            "Epoch 39/50\n",
            "60000/60000 [==============================] - 3s 58us/step - loss: 0.1037 - val_loss: 0.1017\n",
            "Epoch 40/50\n",
            "60000/60000 [==============================] - 3s 58us/step - loss: 0.1035 - val_loss: 0.1041\n",
            "Epoch 41/50\n",
            "60000/60000 [==============================] - 4s 60us/step - loss: 0.1032 - val_loss: 0.1015\n",
            "Epoch 42/50\n",
            "60000/60000 [==============================] - 4s 59us/step - loss: 0.1032 - val_loss: 0.1021\n",
            "Epoch 43/50\n",
            "60000/60000 [==============================] - 4s 59us/step - loss: 0.1031 - val_loss: 0.1011\n",
            "Epoch 44/50\n",
            "60000/60000 [==============================] - 4s 59us/step - loss: 0.1031 - val_loss: 0.1013\n",
            "Epoch 45/50\n",
            "60000/60000 [==============================] - 3s 58us/step - loss: 0.1028 - val_loss: 0.1014\n",
            "Epoch 46/50\n",
            "60000/60000 [==============================] - 4s 59us/step - loss: 0.1028 - val_loss: 0.1019\n",
            "Epoch 47/50\n",
            "60000/60000 [==============================] - 4s 59us/step - loss: 0.1027 - val_loss: 0.1015\n",
            "Epoch 48/50\n",
            "60000/60000 [==============================] - 4s 60us/step - loss: 0.1020 - val_loss: 0.0999\n",
            "Epoch 49/50\n",
            "60000/60000 [==============================] - 4s 59us/step - loss: 0.1021 - val_loss: 0.1004\n",
            "Epoch 50/50\n",
            "60000/60000 [==============================] - 4s 59us/step - loss: 0.1021 - val_loss: 0.0997\n"
          ],
          "name": "stdout"
        },
        {
          "output_type": "execute_result",
          "data": {
            "text/plain": [
              "<keras.callbacks.callbacks.History at 0x7f8ab051aef0>"
            ]
          },
          "metadata": {
            "tags": []
          },
          "execution_count": 9
        }
      ]
    },
    {
      "cell_type": "code",
      "metadata": {
        "id": "VsVytqEOg-Cd",
        "colab_type": "code",
        "colab": {
          "base_uri": "https://localhost:8080/",
          "height": 248
        },
        "outputId": "c750d661-0ccc-4f74-bbff-b02e15d77bd4"
      },
      "source": [
        "#visualizacion de la decodificacion\n",
        "decoded_imgs = autoencoder.predict(X_test)\n",
        "\n",
        "n = 7\n",
        "plt.figure(figsize=(14, 4))\n",
        "for i in range(n):\n",
        "    i = i + 1\n",
        "    # display original\n",
        "    ax = plt.subplot(2, n, i)\n",
        "    plt.imshow(X_test[i].reshape(28, 28))\n",
        "    plt.gray()\n",
        "    ax.get_xaxis().set_visible(False)\n",
        "    ax.get_yaxis().set_visible(False)\n",
        "\n",
        "    # display reconstruction\n",
        "    ax = plt.subplot(2, n, i+n)\n",
        "    plt.imshow(decoded_imgs[i].reshape(28, 28))\n",
        "    plt.gray()\n",
        "    ax.get_xaxis().set_visible(False)\n",
        "    ax.get_yaxis().set_visible(False)\n",
        "plt.show()"
      ],
      "execution_count": 42,
      "outputs": [
        {
          "output_type": "display_data",
          "data": {
            "image/png": "[encoded data removed]",
            "text/plain": [
              "<Figure size 1008x288 with 14 Axes>"
            ]
          },
          "metadata": {
            "tags": []
          }
        }
      ]
    }
  ]
}