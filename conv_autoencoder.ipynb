{
  "nbformat": 4,
  "nbformat_minor": 0,
  "metadata": {
    "colab": {
      "name": "conv_autoencoder.ipynb",
      "provenance": [],
      "collapsed_sections": [],
      "toc_visible": true,
      "authorship_tag": "ABX9TyOoCCVyJmX4ST7EgwHvxCh7",
      "include_colab_link": true
    },
    "kernelspec": {
      "name": "python3",
      "display_name": "Python 3"
    },
    "accelerator": "GPU"
  },
  "cells": [
    {
      "cell_type": "markdown",
      "metadata": {
        "id": "view-in-github",
        "colab_type": "text"
      },
      "source": [
        "<a href=\"https://colab.research.google.com/github/dbeniteze/autoencoder_convolucional/blob/master/conv_autoencoder.ipynb\" target=\"_parent\"><img src=\"https://colab.research.google.com/assets/colab-badge.svg\" alt=\"Open In Colab\"/></a>"
      ]
    },
    {
      "cell_type": "code",
      "metadata": {
        "id": "LvCGvOKYgDVf",
        "colab_type": "code",
        "colab": {
          "base_uri": "https://localhost:8080/",
          "height": 187
        },
        "outputId": "7dcd0559-95c7-49ab-b507-d5e3989069f2"
      },
      "source": [
        "!pip3 install keras==2.3.1\n",
        "\n",
        "%tensorflow_version 2.x\n",
        "import tensorflow as tf\n",
        "device_name = tf.test.gpu_device_name()\n",
        "if device_name != '/device:GPU:0':\n",
        "  raise SystemError('GPU device not found')\n",
        "print('Found GPU at: {}'.format(device_name))"
      ],
      "execution_count": 1,
      "outputs": [
        {
          "output_type": "stream",
          "text": [
            "Requirement already satisfied: keras==2.3.1 in /usr/local/lib/python3.6/dist-packages (2.3.1)\n",
            "Requirement already satisfied: pyyaml in /usr/local/lib/python3.6/dist-packages (from keras==2.3.1) (3.13)\n",
            "Requirement already satisfied: keras-applications>=1.0.6 in /usr/local/lib/python3.6/dist-packages (from keras==2.3.1) (1.0.8)\n",
            "Requirement already satisfied: numpy>=1.9.1 in /usr/local/lib/python3.6/dist-packages (from keras==2.3.1) (1.17.5)\n",
            "Requirement already satisfied: h5py in /usr/local/lib/python3.6/dist-packages (from keras==2.3.1) (2.8.0)\n",
            "Requirement already satisfied: six>=1.9.0 in /usr/local/lib/python3.6/dist-packages (from keras==2.3.1) (1.12.0)\n",
            "Requirement already satisfied: keras-preprocessing>=1.0.5 in /usr/local/lib/python3.6/dist-packages (from keras==2.3.1) (1.1.0)\n",
            "Requirement already satisfied: scipy>=0.14 in /usr/local/lib/python3.6/dist-packages (from keras==2.3.1) (1.4.1)\n",
            "TensorFlow 2.x selected.\n",
            "Found GPU at: /device:GPU:0\n"
          ],
          "name": "stdout"
        }
      ]
    },
    {
      "cell_type": "code",
      "metadata": {
        "id": "qoJIAQUigGRf",
        "colab_type": "code",
        "colab": {}
      },
      "source": [
        "# Larger CNN for the MNIST Dataset\n",
        "from keras import backend as K\n",
        "from keras.datasets import mnist\n",
        "from keras.models import Sequential\n",
        "from keras.layers import Dense\n",
        "from keras.layers import Dropout, Reshape\n",
        "from keras.layers import Flatten, BatchNormalization\n",
        "from keras.layers import LeakyReLU\n",
        "from keras.layers.convolutional import Conv2D\n",
        "from keras.layers.convolutional import MaxPooling2D\n",
        "from keras.utils import np_utils\n",
        "from matplotlib import pyplot as plt\n",
        "import numpy as np\n",
        "# load data\n",
        "(X_train, y_train), (X_test, y_test) = mnist.load_data()\n",
        "# reshape to be [samples][width][height][channels]\n",
        "X_train = X_train.reshape((X_train.shape[0], 28, 28, 1)).astype('float32')\n",
        "X_test = X_test.reshape((X_test.shape[0], 28, 28, 1)).astype('float32')\n",
        "# normalize inputs from 0-255 to 0-1\n",
        "X_train = X_train / 255\n",
        "X_test = X_test / 255\n"
      ],
      "execution_count": 0,
      "outputs": []
    },
    {
      "cell_type": "code",
      "metadata": {
        "id": "E19oJS3_gc8W",
        "colab_type": "code",
        "colab": {
          "base_uri": "https://localhost:8080/",
          "height": 629
        },
        "outputId": "d6d5b397-acc8-4f61-d783-6df4e04c651d"
      },
      "source": [
        "from keras.layers import Input, Dense, Conv2D, MaxPooling2D, UpSampling2D\n",
        "from keras.models import Model\n",
        "from keras import backend as K\n",
        "\n",
        "input_img = Input(shape=(28, 28, 1))  # adapt this if using `channels_first` image data format\n",
        "LF = (5,5)\n",
        "x = Conv2D(16, LF, activation='relu', padding='same')(input_img)\n",
        "x = MaxPooling2D((2, 2), padding='same')(x)\n",
        "x = Conv2D(8, LF, activation='relu', padding='same')(x)\n",
        "x = MaxPooling2D((2, 2), padding='same')(x)\n",
        "x = Conv2D(8, LF, activation='relu', padding='same')(x)\n",
        "encoded = MaxPooling2D((2, 2), padding='same')(x)\n",
        "\n",
        "# at this point the representation is (4, 4, 8) i.e. 128-dimensional\n",
        "\n",
        "x = Conv2D(8, (3,3), activation='relu', padding='same')(encoded)\n",
        "x = UpSampling2D((2, 2))(x)\n",
        "x = Conv2D(8, (3,3), activation='relu', padding='same')(x)\n",
        "x = UpSampling2D((2, 2))(x)\n",
        "x = Conv2D(16, (3,3), activation='relu')(x)\n",
        "x = UpSampling2D((2, 2))(x)\n",
        "decoded = Conv2D(1, (3,3), activation='sigmoid', padding='same')(x)\n",
        "\n",
        "autoencoder = Model(input_img, decoded)\n",
        "autoencoder.compile(optimizer='adadelta', loss='binary_crossentropy')\n",
        "autoencoder.summary()"
      ],
      "execution_count": 53,
      "outputs": [
        {
          "output_type": "stream",
          "text": [
            "Model: \"model_10\"\n",
            "_________________________________________________________________\n",
            "Layer (type)                 Output Shape              Param #   \n",
            "=================================================================\n",
            "input_10 (InputLayer)        (None, 28, 28, 1)         0         \n",
            "_________________________________________________________________\n",
            "conv2d_64 (Conv2D)           (None, 28, 28, 16)        416       \n",
            "_________________________________________________________________\n",
            "max_pooling2d_28 (MaxPooling (None, 14, 14, 16)        0         \n",
            "_________________________________________________________________\n",
            "conv2d_65 (Conv2D)           (None, 14, 14, 8)         3208      \n",
            "_________________________________________________________________\n",
            "max_pooling2d_29 (MaxPooling (None, 7, 7, 8)           0         \n",
            "_________________________________________________________________\n",
            "conv2d_66 (Conv2D)           (None, 7, 7, 8)           1608      \n",
            "_________________________________________________________________\n",
            "max_pooling2d_30 (MaxPooling (None, 4, 4, 8)           0         \n",
            "_________________________________________________________________\n",
            "conv2d_67 (Conv2D)           (None, 4, 4, 8)           584       \n",
            "_________________________________________________________________\n",
            "up_sampling2d_28 (UpSampling (None, 8, 8, 8)           0         \n",
            "_________________________________________________________________\n",
            "conv2d_68 (Conv2D)           (None, 8, 8, 8)           584       \n",
            "_________________________________________________________________\n",
            "up_sampling2d_29 (UpSampling (None, 16, 16, 8)         0         \n",
            "_________________________________________________________________\n",
            "conv2d_69 (Conv2D)           (None, 14, 14, 16)        1168      \n",
            "_________________________________________________________________\n",
            "up_sampling2d_30 (UpSampling (None, 28, 28, 16)        0         \n",
            "_________________________________________________________________\n",
            "conv2d_70 (Conv2D)           (None, 28, 28, 1)         145       \n",
            "=================================================================\n",
            "Total params: 7,713\n",
            "Trainable params: 7,713\n",
            "Non-trainable params: 0\n",
            "_________________________________________________________________\n"
          ],
          "name": "stdout"
        }
      ]
    },
    {
      "cell_type": "code",
      "metadata": {
        "id": "Gq3w3i8IgnWQ",
        "colab_type": "code",
        "colab": {
          "base_uri": "https://localhost:8080/",
          "height": 1000
        },
        "outputId": "57fec858-42c6-47fc-d0d5-1f0a3f5e9539"
      },
      "source": [
        "\n",
        "autoencoder.fit(X_train, X_train,\n",
        "                epochs=50,\n",
        "                batch_size=128,\n",
        "                shuffle=True,\n",
        "                validation_data=(X_test, X_test))"
      ],
      "execution_count": 54,
      "outputs": [
        {
          "output_type": "stream",
          "text": [
            "Train on 60000 samples, validate on 10000 samples\n",
            "Epoch 1/50\n",
            "60000/60000 [==============================] - 4s 69us/step - loss: 0.2169 - val_loss: 0.1678\n",
            "Epoch 2/50\n",
            "60000/60000 [==============================] - 4s 63us/step - loss: 0.1580 - val_loss: 0.1479\n",
            "Epoch 3/50\n",
            "60000/60000 [==============================] - 4s 62us/step - loss: 0.1430 - val_loss: 0.1362\n",
            "Epoch 4/50\n",
            "60000/60000 [==============================] - 4s 63us/step - loss: 0.1345 - val_loss: 0.1303\n",
            "Epoch 5/50\n",
            "60000/60000 [==============================] - 4s 62us/step - loss: 0.1288 - val_loss: 0.1232\n",
            "Epoch 6/50\n",
            "60000/60000 [==============================] - 4s 62us/step - loss: 0.1247 - val_loss: 0.1247\n",
            "Epoch 7/50\n",
            "60000/60000 [==============================] - 4s 62us/step - loss: 0.1218 - val_loss: 0.1217\n",
            "Epoch 8/50\n",
            "60000/60000 [==============================] - 4s 63us/step - loss: 0.1191 - val_loss: 0.1163\n",
            "Epoch 9/50\n",
            "60000/60000 [==============================] - 4s 62us/step - loss: 0.1169 - val_loss: 0.1185\n",
            "Epoch 10/50\n",
            "60000/60000 [==============================] - 4s 62us/step - loss: 0.1152 - val_loss: 0.1217\n",
            "Epoch 11/50\n",
            "60000/60000 [==============================] - 4s 62us/step - loss: 0.1135 - val_loss: 0.1139\n",
            "Epoch 12/50\n",
            "60000/60000 [==============================] - 4s 62us/step - loss: 0.1117 - val_loss: 0.1137\n",
            "Epoch 13/50\n",
            "60000/60000 [==============================] - 4s 62us/step - loss: 0.1104 - val_loss: 0.1121\n",
            "Epoch 14/50\n",
            "60000/60000 [==============================] - 4s 63us/step - loss: 0.1094 - val_loss: 0.1079\n",
            "Epoch 15/50\n",
            "60000/60000 [==============================] - 4s 63us/step - loss: 0.1083 - val_loss: 0.1048\n",
            "Epoch 16/50\n",
            "60000/60000 [==============================] - 4s 62us/step - loss: 0.1072 - val_loss: 0.1100\n",
            "Epoch 17/50\n",
            "60000/60000 [==============================] - 4s 63us/step - loss: 0.1062 - val_loss: 0.1058\n",
            "Epoch 18/50\n",
            "60000/60000 [==============================] - 4s 62us/step - loss: 0.1053 - val_loss: 0.1021\n",
            "Epoch 19/50\n",
            "60000/60000 [==============================] - 4s 61us/step - loss: 0.1046 - val_loss: 0.1027\n",
            "Epoch 20/50\n",
            "60000/60000 [==============================] - 4s 63us/step - loss: 0.1039 - val_loss: 0.1020\n",
            "Epoch 21/50\n",
            "60000/60000 [==============================] - 4s 62us/step - loss: 0.1031 - val_loss: 0.1034\n",
            "Epoch 22/50\n",
            "60000/60000 [==============================] - 4s 62us/step - loss: 0.1024 - val_loss: 0.1006\n",
            "Epoch 23/50\n",
            "60000/60000 [==============================] - 4s 62us/step - loss: 0.1020 - val_loss: 0.1025\n",
            "Epoch 24/50\n",
            "60000/60000 [==============================] - 4s 62us/step - loss: 0.1017 - val_loss: 0.1052\n",
            "Epoch 25/50\n",
            "60000/60000 [==============================] - 4s 62us/step - loss: 0.1012 - val_loss: 0.1029\n",
            "Epoch 26/50\n",
            "60000/60000 [==============================] - 4s 63us/step - loss: 0.1007 - val_loss: 0.1006\n",
            "Epoch 27/50\n",
            "60000/60000 [==============================] - 4s 62us/step - loss: 0.1004 - val_loss: 0.1001\n",
            "Epoch 28/50\n",
            "60000/60000 [==============================] - 4s 62us/step - loss: 0.1000 - val_loss: 0.0975\n",
            "Epoch 29/50\n",
            "60000/60000 [==============================] - 4s 63us/step - loss: 0.0996 - val_loss: 0.0968\n",
            "Epoch 30/50\n",
            "60000/60000 [==============================] - 4s 63us/step - loss: 0.0990 - val_loss: 0.0980\n",
            "Epoch 31/50\n",
            "60000/60000 [==============================] - 4s 63us/step - loss: 0.0985 - val_loss: 0.0987\n",
            "Epoch 32/50\n",
            "60000/60000 [==============================] - 4s 62us/step - loss: 0.0982 - val_loss: 0.0970\n",
            "Epoch 33/50\n",
            "60000/60000 [==============================] - 4s 62us/step - loss: 0.0977 - val_loss: 0.0956\n",
            "Epoch 34/50\n",
            "60000/60000 [==============================] - 4s 62us/step - loss: 0.0977 - val_loss: 0.0957\n",
            "Epoch 35/50\n",
            "60000/60000 [==============================] - 4s 62us/step - loss: 0.0972 - val_loss: 0.0965\n",
            "Epoch 36/50\n",
            "60000/60000 [==============================] - 4s 64us/step - loss: 0.0973 - val_loss: 0.0955\n",
            "Epoch 37/50\n",
            "60000/60000 [==============================] - 4s 63us/step - loss: 0.0969 - val_loss: 0.0981\n",
            "Epoch 38/50\n",
            "60000/60000 [==============================] - 4s 62us/step - loss: 0.0967 - val_loss: 0.0948\n",
            "Epoch 39/50\n",
            "60000/60000 [==============================] - 4s 62us/step - loss: 0.0964 - val_loss: 0.0952\n",
            "Epoch 40/50\n",
            "60000/60000 [==============================] - 4s 62us/step - loss: 0.0961 - val_loss: 0.0937\n",
            "Epoch 41/50\n",
            "60000/60000 [==============================] - 4s 62us/step - loss: 0.0959 - val_loss: 0.0956\n",
            "Epoch 42/50\n",
            "60000/60000 [==============================] - 4s 62us/step - loss: 0.0957 - val_loss: 0.0944\n",
            "Epoch 43/50\n",
            "60000/60000 [==============================] - 4s 62us/step - loss: 0.0956 - val_loss: 0.0936\n",
            "Epoch 44/50\n",
            "60000/60000 [==============================] - 4s 61us/step - loss: 0.0955 - val_loss: 0.0954\n",
            "Epoch 45/50\n",
            "60000/60000 [==============================] - 4s 62us/step - loss: 0.0952 - val_loss: 0.0922\n",
            "Epoch 46/50\n",
            "60000/60000 [==============================] - 4s 63us/step - loss: 0.0947 - val_loss: 0.0940\n",
            "Epoch 47/50\n",
            "60000/60000 [==============================] - 4s 63us/step - loss: 0.0948 - val_loss: 0.0961\n",
            "Epoch 48/50\n",
            "60000/60000 [==============================] - 4s 62us/step - loss: 0.0943 - val_loss: 0.0960\n",
            "Epoch 49/50\n",
            "60000/60000 [==============================] - 4s 62us/step - loss: 0.0943 - val_loss: 0.0969\n",
            "Epoch 50/50\n",
            "60000/60000 [==============================] - 4s 62us/step - loss: 0.0944 - val_loss: 0.0938\n"
          ],
          "name": "stdout"
        },
        {
          "output_type": "execute_result",
          "data": {
            "text/plain": [
              "<keras.callbacks.callbacks.History at 0x7f8a920f1f98>"
            ]
          },
          "metadata": {
            "tags": []
          },
          "execution_count": 54
        }
      ]
    },
    {
      "cell_type": "code",
      "metadata": {
        "id": "VsVytqEOg-Cd",
        "colab_type": "code",
        "colab": {
          "base_uri": "https://localhost:8080/",
          "height": 248
        },
        "outputId": "10a4ae89-cef5-4e46-f411-ea6d8a584f72"
      },
      "source": [
        "#visualizacion de la decodificacion\n",
        "decoded_imgs = autoencoder.predict(X_test)\n",
        "\n",
        "n = 7\n",
        "plt.figure(figsize=(14, 4))\n",
        "for i in range(n):\n",
        "    i = i + 1\n",
        "    # display original\n",
        "    ax = plt.subplot(2, n, i)\n",
        "    plt.imshow(X_test[i].reshape(28, 28))\n",
        "    plt.gray()\n",
        "    ax.get_xaxis().set_visible(False)\n",
        "    ax.get_yaxis().set_visible(False)\n",
        "\n",
        "    # display reconstruction\n",
        "    ax = plt.subplot(2, n, i+n)\n",
        "    plt.imshow(decoded_imgs[i].reshape(28, 28))\n",
        "    plt.gray()\n",
        "    ax.get_xaxis().set_visible(False)\n",
        "    ax.get_yaxis().set_visible(False)\n",
        "plt.show()"
      ],
      "execution_count": 55,
      "outputs": [
        {
          "output_type": "display_data",
          "data": {
            "image/png": "[encoded data removed]",
            "text/plain": [
              "<Figure size 1008x288 with 14 Axes>"
            ]
          },
          "metadata": {
            "tags": []
          }
        }
      ]
    }
  ]
}