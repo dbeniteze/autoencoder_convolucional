{
  "nbformat": 4,
  "nbformat_minor": 0,
  "metadata": {
    "colab": {
      "name": "autoencoder_lstm_conv.ipynb",
      "provenance": [],
      "collapsed_sections": [],
      "toc_visible": true,
      "authorship_tag": "ABX9TyMl7KnTzfe+t/3fgqBMNH1a",
      "include_colab_link": true
    },
    "kernelspec": {
      "name": "python3",
      "display_name": "Python 3"
    },
    "accelerator": "GPU"
  },
  "cells": [
    {
      "cell_type": "markdown",
      "metadata": {
        "id": "view-in-github",
        "colab_type": "text"
      },
      "source": [
        "<a href=\"https://colab.research.google.com/github/dbeniteze/autoencoder_convolucional/blob/master/mnist_autoencoder_lstm_conv.ipynb\" target=\"_parent\"><img src=\"https://colab.research.google.com/assets/colab-badge.svg\" alt=\"Open In Colab\"/></a>"
      ]
    },
    {
      "cell_type": "code",
      "metadata": {
        "id": "LvCGvOKYgDVf",
        "colab_type": "code",
        "outputId": "bae47820-6a22-402f-857b-3daedaa340a9",
        "colab": {
          "base_uri": "https://localhost:8080/",
          "height": 187
        }
      },
      "source": [
        "!pip3 install keras==2.3.1\n",
        "\n",
        "#!apt-get install libgeos-3.5.0\n",
        "#!apt-get install libgeos-dev\n",
        "#!pip install https://github.com/matplotlib/basemap/archive/master.zip     #basemap\n",
        "\n",
        "#!pip install pyproj==1.9.6   #posible arreglo\n",
        "\n",
        "\n",
        "\n",
        "%tensorflow_version 2.x\n",
        "import tensorflow as tf\n",
        "device_name = tf.test.gpu_device_name()\n",
        "if device_name != '/device:GPU:0':\n",
        "  raise SystemError('GPU device not found')\n",
        "print('Found GPU at: {}'.format(device_name))"
      ],
      "execution_count": 1,
      "outputs": [
        {
          "output_type": "stream",
          "text": [
            "Requirement already satisfied: keras==2.3.1 in /usr/local/lib/python3.6/dist-packages (2.3.1)\n",
            "Requirement already satisfied: six>=1.9.0 in /usr/local/lib/python3.6/dist-packages (from keras==2.3.1) (1.12.0)\n",
            "Requirement already satisfied: keras-preprocessing>=1.0.5 in /usr/local/lib/python3.6/dist-packages (from keras==2.3.1) (1.1.0)\n",
            "Requirement already satisfied: keras-applications>=1.0.6 in /usr/local/lib/python3.6/dist-packages (from keras==2.3.1) (1.0.8)\n",
            "Requirement already satisfied: scipy>=0.14 in /usr/local/lib/python3.6/dist-packages (from keras==2.3.1) (1.4.1)\n",
            "Requirement already satisfied: h5py in /usr/local/lib/python3.6/dist-packages (from keras==2.3.1) (2.8.0)\n",
            "Requirement already satisfied: pyyaml in /usr/local/lib/python3.6/dist-packages (from keras==2.3.1) (3.13)\n",
            "Requirement already satisfied: numpy>=1.9.1 in /usr/local/lib/python3.6/dist-packages (from keras==2.3.1) (1.17.5)\n",
            "TensorFlow 2.x selected.\n",
            "Found GPU at: /device:GPU:0\n"
          ],
          "name": "stdout"
        }
      ]
    },
    {
      "cell_type": "code",
      "metadata": {
        "id": "qoJIAQUigGRf",
        "colab_type": "code",
        "outputId": "ca2c5397-0f3b-48db-ba3b-150250c518b5",
        "colab": {
          "base_uri": "https://localhost:8080/",
          "height": 34
        }
      },
      "source": [
        "# Larger CNN for the MNIST Dataset\n",
        "from keras import backend as K\n",
        "from keras.datasets import cifar10\n",
        "from keras.models import Sequential\n",
        "from keras.layers import Dense\n",
        "from keras.layers import Dropout, Reshape\n",
        "from keras.layers import Flatten, BatchNormalization\n",
        "from keras.layers import LeakyReLU\n",
        "from keras.layers.convolutional import Conv2D\n",
        "from keras.layers.convolutional import MaxPooling2D\n",
        "from keras.utils import np_utils\n",
        "from matplotlib import pyplot as plt\n",
        "import numpy as np\n",
        "from keras.layers import Input, Dense, Conv2D, MaxPooling2D, UpSampling2D, Conv2DTranspose, AveragePooling2D\n",
        "from keras.models import Model\n",
        "from keras.optimizers import Adam\n",
        "from keras import backend as K\n",
        "\n",
        "import os\n",
        "\n",
        "\n",
        "\n",
        "\n",
        "X_train = np.load(\"drive/My Drive/temperaturas/temp_tropp.npy\", allow_pickle=True)\n",
        "\n",
        "\n"
      ],
      "execution_count": 0,
      "outputs": [
        {
          "output_type": "stream",
          "text": [
            "Using TensorFlow backend.\n"
          ],
          "name": "stderr"
        }
      ]
    },
    {
      "cell_type": "code",
      "metadata": {
        "id": "ULrHgkuj2Y6A",
        "colab_type": "code",
        "colab": {}
      },
      "source": [
        "from keras.layers import  AveragePooling2D\n",
        "X_train = X_train.reshape((X_train.shape[0], 73, 144, 1)).astype('float32')\n",
        "\n",
        "1#rango de temperaturas\n",
        "minimo = np.min(X_train)\n",
        "maximo = np.max(X_train)\n",
        "\n",
        "X_train = (X_train - minimo) / (maximo - minimo)\n"
      ],
      "execution_count": 0,
      "outputs": []
    },
    {
      "cell_type": "code",
      "metadata": {
        "colab_type": "code",
        "id": "zqU-SVxLXEgm",
        "colab": {}
      },
      "source": [
        "# Larger CNN for the MNIST Dataset\n",
        "from keras import backend as K\n",
        "from keras.datasets import mnist\n",
        "from keras.models import Sequential\n",
        "from keras.layers import Dense\n",
        "from keras.layers import Dropout, Reshape\n",
        "from keras.layers import Flatten, BatchNormalization\n",
        "from keras.layers import LeakyReLU\n",
        "from keras.layers.convolutional import Conv2D\n",
        "from keras.layers.convolutional import MaxPooling2D\n",
        "from keras.utils import np_utils\n",
        "from matplotlib import pyplot as plt\n",
        "import numpy as np\n",
        "from keras.layers import Input, Dense, Conv2D, MaxPooling2D, UpSampling2D, Conv2DTranspose\n",
        "from keras.models import Model\n",
        "from keras.optimizers import Adam\n",
        "from keras import backend as K\n",
        "# load data\n",
        "(X_train, y_train), (X_test, y_test) = mnist.load_data()\n",
        "# reshape to be [samples][width][height][channels]\n",
        "X_train = X_train.reshape((X_train.shape[0], 1, 28, 28, 1)).astype('float32')\n",
        "X_test = X_test.reshape((X_test.shape[0], 1, 28, 28, 1)).astype('float32')\n",
        "\n",
        "\n",
        "# normalize inputs from 0-255 to 0-1\n",
        "X_train = X_train / 255\n",
        "X_test = X_test / 255\n",
        "\n",
        "\n",
        "epoch = 100\n",
        "\n",
        "def lr_schedule(epoch):\n",
        "    lrate = 0.001\n",
        "    if epoch > 30:\n",
        "        lrate = 0.0005\n",
        "    if epoch > 70:\n",
        "        lrate = 0.0003\n",
        "    return lrate\n"
      ],
      "execution_count": 0,
      "outputs": []
    },
    {
      "cell_type": "code",
      "metadata": {
        "id": "S3Q4mYRXdidr",
        "colab_type": "code",
        "colab": {
          "base_uri": "https://localhost:8080/",
          "height": 493
        },
        "outputId": "cd0f8bb0-e6b8-4e9a-c588-9d83544f2c4e"
      },
      "source": [
        "from keras.layers import Input, LSTM, RepeatVector, ConvLSTM2D\n",
        "from keras.models import Model\n",
        "\n",
        "\n",
        "#autoencoder con Conv2DTranspose\n",
        "input_img = Input(shape=(None, 28, 28, 1))  # adapt this if using `channels_first` image data format\n",
        "LF = (3,3)\n",
        "x = ConvLSTM2D(32, kernel_size=LF, strides=2, padding=\"same\", activation='elu', return_sequences=True)(input_img)\n",
        "x = BatchNormalization()(x)\n",
        "\n",
        "\n",
        "x = ConvLSTM2D(8, kernel_size=LF, strides=2, padding=\"same\", activation='elu', return_sequences=True)(x)\n",
        "x = BatchNormalization()(x)\n",
        "\n",
        "encoded = Reshape((7, 7, 8))(x)\n",
        "\n",
        "x = Conv2DTranspose(8, kernel_size=LF, strides=2, padding=\"same\", activation='elu')(encoded)\n",
        "x = BatchNormalization()(x)\n",
        "x = Conv2DTranspose(1, kernel_size=LF,  strides=2,padding=\"same\", activation='elu')(x)\n",
        "decoded = Reshape((1, 28, 28, 1))(x)\n",
        "\n",
        "autoencoder = Model(input_img, decoded)\n",
        "autoencoder.summary()\n"
      ],
      "execution_count": 78,
      "outputs": [
        {
          "output_type": "stream",
          "text": [
            "Model: \"model_15\"\n",
            "_________________________________________________________________\n",
            "Layer (type)                 Output Shape              Param #   \n",
            "=================================================================\n",
            "input_45 (InputLayer)        (None, None, 28, 28, 1)   0         \n",
            "_________________________________________________________________\n",
            "conv_lst_m2d_46 (ConvLSTM2D) (None, None, 14, 14, 32)  38144     \n",
            "_________________________________________________________________\n",
            "batch_normalization_60 (Batc (None, None, 14, 14, 32)  128       \n",
            "_________________________________________________________________\n",
            "conv_lst_m2d_47 (ConvLSTM2D) (None, None, 7, 7, 8)     11552     \n",
            "_________________________________________________________________\n",
            "batch_normalization_61 (Batc (None, None, 7, 7, 8)     32        \n",
            "_________________________________________________________________\n",
            "reshape_26 (Reshape)         (None, 7, 7, 8)           0         \n",
            "_________________________________________________________________\n",
            "conv2d_transpose_21 (Conv2DT (None, 14, 14, 8)         584       \n",
            "_________________________________________________________________\n",
            "batch_normalization_62 (Batc (None, 14, 14, 8)         32        \n",
            "_________________________________________________________________\n",
            "conv2d_transpose_22 (Conv2DT (None, 28, 28, 1)         73        \n",
            "_________________________________________________________________\n",
            "reshape_27 (Reshape)         (None, 1, 28, 28, 1)      0         \n",
            "=================================================================\n",
            "Total params: 50,545\n",
            "Trainable params: 50,449\n",
            "Non-trainable params: 96\n",
            "_________________________________________________________________\n"
          ],
          "name": "stdout"
        }
      ]
    },
    {
      "cell_type": "code",
      "metadata": {
        "id": "N4-YSIs6zFa6",
        "colab_type": "code",
        "outputId": "4951b623-80fc-4314-f1af-8d951bcb95c1",
        "colab": {
          "base_uri": "https://localhost:8080/",
          "height": 1000
        }
      },
      "source": [
        "def coeff_determination(y_true, y_pred):\n",
        "    SS_res =  K.sum(K.square( y_true-y_pred ))\n",
        "    SS_tot = K.sum(K.square( y_true - K.mean(y_true) ) )\n",
        "    return ( 1 - SS_res/(SS_tot + K.epsilon()) )\n",
        "\n",
        "autoencoder.compile(optimizer=Adam(learning_rate=lr_schedule(epoch)),  loss='mse', metrics=[coeff_determination])\n",
        "\n",
        "autoencoder.fit(X_train, X_train,\n",
        "                epochs=epoch,\n",
        "                batch_size=128,\n",
        "                shuffle=True,\n",
        "                validation_data=(X_test, X_test))\n"
      ],
      "execution_count": 79,
      "outputs": [
        {
          "output_type": "stream",
          "text": [
            "Train on 60000 samples, validate on 10000 samples\n",
            "Epoch 1/100\n",
            "60000/60000 [==============================] - 12s 203us/step - loss: 0.0459 - coeff_determination: 0.5159 - val_loss: 0.0580 - val_coeff_determination: 0.3956\n",
            "Epoch 2/100\n",
            "60000/60000 [==============================] - 10s 170us/step - loss: 0.0096 - coeff_determination: 0.8988 - val_loss: 0.0086 - val_coeff_determination: 0.9099\n",
            "Epoch 3/100\n",
            "60000/60000 [==============================] - 10s 169us/step - loss: 0.0067 - coeff_determination: 0.9296 - val_loss: 0.0062 - val_coeff_determination: 0.9344\n",
            "Epoch 4/100\n",
            "60000/60000 [==============================] - 10s 171us/step - loss: 0.0054 - coeff_determination: 0.9431 - val_loss: 0.0052 - val_coeff_determination: 0.9450\n",
            "Epoch 5/100\n",
            "60000/60000 [==============================] - 10s 171us/step - loss: 0.0046 - coeff_determination: 0.9513 - val_loss: 0.0043 - val_coeff_determination: 0.9552\n",
            "Epoch 6/100\n",
            "60000/60000 [==============================] - 10s 172us/step - loss: 0.0040 - coeff_determination: 0.9578 - val_loss: 0.0037 - val_coeff_determination: 0.9609\n",
            "Epoch 7/100\n",
            "60000/60000 [==============================] - 10s 171us/step - loss: 0.0035 - coeff_determination: 0.9636 - val_loss: 0.0034 - val_coeff_determination: 0.9646\n",
            "Epoch 8/100\n",
            "60000/60000 [==============================] - 10s 171us/step - loss: 0.0031 - coeff_determination: 0.9674 - val_loss: 0.0030 - val_coeff_determination: 0.9682\n",
            "Epoch 9/100\n",
            "60000/60000 [==============================] - 10s 171us/step - loss: 0.0029 - coeff_determination: 0.9692 - val_loss: 0.0029 - val_coeff_determination: 0.9698\n",
            "Epoch 10/100\n",
            "60000/60000 [==============================] - 10s 171us/step - loss: 0.0028 - coeff_determination: 0.9704 - val_loss: 0.0028 - val_coeff_determination: 0.9707\n",
            "Epoch 11/100\n",
            "60000/60000 [==============================] - 10s 170us/step - loss: 0.0027 - coeff_determination: 0.9711 - val_loss: 0.0028 - val_coeff_determination: 0.9709\n",
            "Epoch 12/100\n",
            "60000/60000 [==============================] - 10s 170us/step - loss: 0.0027 - coeff_determination: 0.9718 - val_loss: 0.0027 - val_coeff_determination: 0.9719\n",
            "Epoch 13/100\n",
            "60000/60000 [==============================] - 10s 171us/step - loss: 0.0026 - coeff_determination: 0.9724 - val_loss: 0.0026 - val_coeff_determination: 0.9722\n",
            "Epoch 14/100\n",
            "60000/60000 [==============================] - 10s 172us/step - loss: 0.0026 - coeff_determination: 0.9728 - val_loss: 0.0026 - val_coeff_determination: 0.9727\n",
            "Epoch 15/100\n",
            "60000/60000 [==============================] - 10s 170us/step - loss: 0.0025 - coeff_determination: 0.9732 - val_loss: 0.0026 - val_coeff_determination: 0.9727\n",
            "Epoch 16/100\n",
            "60000/60000 [==============================] - 10s 171us/step - loss: 0.0025 - coeff_determination: 0.9734 - val_loss: 0.0026 - val_coeff_determination: 0.9726\n",
            "Epoch 17/100\n",
            "60000/60000 [==============================] - 10s 170us/step - loss: 0.0025 - coeff_determination: 0.9736 - val_loss: 0.0025 - val_coeff_determination: 0.9733\n",
            "Epoch 18/100\n",
            "60000/60000 [==============================] - 10s 172us/step - loss: 0.0025 - coeff_determination: 0.9739 - val_loss: 0.0025 - val_coeff_determination: 0.9736\n",
            "Epoch 19/100\n",
            "60000/60000 [==============================] - 10s 173us/step - loss: 0.0025 - coeff_determination: 0.9741 - val_loss: 0.0025 - val_coeff_determination: 0.9738\n",
            "Epoch 20/100\n",
            "60000/60000 [==============================] - 10s 170us/step - loss: 0.0024 - coeff_determination: 0.9743 - val_loss: 0.0024 - val_coeff_determination: 0.9744\n",
            "Epoch 21/100\n",
            "60000/60000 [==============================] - 10s 173us/step - loss: 0.0024 - coeff_determination: 0.9746 - val_loss: 0.0024 - val_coeff_determination: 0.9746\n",
            "Epoch 22/100\n",
            "60000/60000 [==============================] - 10s 172us/step - loss: 0.0024 - coeff_determination: 0.9747 - val_loss: 0.0024 - val_coeff_determination: 0.9748\n",
            "Epoch 23/100\n",
            "60000/60000 [==============================] - 10s 171us/step - loss: 0.0024 - coeff_determination: 0.9749 - val_loss: 0.0024 - val_coeff_determination: 0.9748\n",
            "Epoch 24/100\n",
            "60000/60000 [==============================] - 10s 170us/step - loss: 0.0024 - coeff_determination: 0.9751 - val_loss: 0.0024 - val_coeff_determination: 0.9752\n",
            "Epoch 25/100\n",
            "60000/60000 [==============================] - 10s 173us/step - loss: 0.0023 - coeff_determination: 0.9754 - val_loss: 0.0023 - val_coeff_determination: 0.9754\n",
            "Epoch 26/100\n",
            "60000/60000 [==============================] - 10s 171us/step - loss: 0.0023 - coeff_determination: 0.9756 - val_loss: 0.0023 - val_coeff_determination: 0.9754\n",
            "Epoch 27/100\n",
            "60000/60000 [==============================] - 10s 172us/step - loss: 0.0023 - coeff_determination: 0.9759 - val_loss: 0.0023 - val_coeff_determination: 0.9760\n",
            "Epoch 28/100\n",
            "60000/60000 [==============================] - 10s 173us/step - loss: 0.0023 - coeff_determination: 0.9762 - val_loss: 0.0023 - val_coeff_determination: 0.9763\n",
            "Epoch 29/100\n",
            "60000/60000 [==============================] - 10s 171us/step - loss: 0.0022 - coeff_determination: 0.9764 - val_loss: 0.0022 - val_coeff_determination: 0.9766\n",
            "Epoch 30/100\n",
            "60000/60000 [==============================] - 10s 172us/step - loss: 0.0022 - coeff_determination: 0.9767 - val_loss: 0.0022 - val_coeff_determination: 0.9771\n",
            "Epoch 31/100\n",
            "60000/60000 [==============================] - 10s 172us/step - loss: 0.0022 - coeff_determination: 0.9770 - val_loss: 0.0022 - val_coeff_determination: 0.9772\n",
            "Epoch 32/100\n",
            "60000/60000 [==============================] - 10s 171us/step - loss: 0.0022 - coeff_determination: 0.9773 - val_loss: 0.0022 - val_coeff_determination: 0.9772\n",
            "Epoch 33/100\n",
            "60000/60000 [==============================] - 10s 172us/step - loss: 0.0021 - coeff_determination: 0.9776 - val_loss: 0.0022 - val_coeff_determination: 0.9773\n",
            "Epoch 34/100\n",
            "60000/60000 [==============================] - 10s 172us/step - loss: 0.0021 - coeff_determination: 0.9778 - val_loss: 0.0021 - val_coeff_determination: 0.9784\n",
            "Epoch 35/100\n",
            "60000/60000 [==============================] - 10s 171us/step - loss: 0.0021 - coeff_determination: 0.9782 - val_loss: 0.0021 - val_coeff_determination: 0.9784\n",
            "Epoch 36/100\n",
            "60000/60000 [==============================] - 10s 171us/step - loss: 0.0020 - coeff_determination: 0.9785 - val_loss: 0.0020 - val_coeff_determination: 0.9788\n",
            "Epoch 37/100\n",
            "60000/60000 [==============================] - 10s 173us/step - loss: 0.0020 - coeff_determination: 0.9787 - val_loss: 0.0020 - val_coeff_determination: 0.9786\n",
            "Epoch 38/100\n",
            "60000/60000 [==============================] - 10s 172us/step - loss: 0.0020 - coeff_determination: 0.9789 - val_loss: 0.0020 - val_coeff_determination: 0.9789\n",
            "Epoch 39/100\n",
            "60000/60000 [==============================] - 10s 172us/step - loss: 0.0020 - coeff_determination: 0.9792 - val_loss: 0.0020 - val_coeff_determination: 0.9792\n",
            "Epoch 40/100\n",
            "60000/60000 [==============================] - 10s 173us/step - loss: 0.0019 - coeff_determination: 0.9795 - val_loss: 0.0019 - val_coeff_determination: 0.9798\n",
            "Epoch 41/100\n",
            "60000/60000 [==============================] - 10s 173us/step - loss: 0.0019 - coeff_determination: 0.9798 - val_loss: 0.0019 - val_coeff_determination: 0.9798\n",
            "Epoch 42/100\n",
            "60000/60000 [==============================] - 10s 173us/step - loss: 0.0019 - coeff_determination: 0.9801 - val_loss: 0.0019 - val_coeff_determination: 0.9801\n",
            "Epoch 43/100\n",
            "60000/60000 [==============================] - 10s 172us/step - loss: 0.0019 - coeff_determination: 0.9804 - val_loss: 0.0018 - val_coeff_determination: 0.9809\n",
            "Epoch 44/100\n",
            "60000/60000 [==============================] - 10s 173us/step - loss: 0.0018 - coeff_determination: 0.9808 - val_loss: 0.0018 - val_coeff_determination: 0.9813\n",
            "Epoch 45/100\n",
            "60000/60000 [==============================] - 10s 175us/step - loss: 0.0018 - coeff_determination: 0.9811 - val_loss: 0.0018 - val_coeff_determination: 0.9814\n",
            "Epoch 46/100\n",
            "60000/60000 [==============================] - 10s 173us/step - loss: 0.0018 - coeff_determination: 0.9815 - val_loss: 0.0017 - val_coeff_determination: 0.9821\n",
            "Epoch 47/100\n",
            "60000/60000 [==============================] - 10s 172us/step - loss: 0.0017 - coeff_determination: 0.9818 - val_loss: 0.0017 - val_coeff_determination: 0.9823\n",
            "Epoch 48/100\n",
            "60000/60000 [==============================] - 11s 175us/step - loss: 0.0017 - coeff_determination: 0.9823 - val_loss: 0.0016 - val_coeff_determination: 0.9829\n",
            "Epoch 49/100\n",
            "60000/60000 [==============================] - 10s 175us/step - loss: 0.0016 - coeff_determination: 0.9827 - val_loss: 0.0016 - val_coeff_determination: 0.9834\n",
            "Epoch 50/100\n",
            "60000/60000 [==============================] - 10s 174us/step - loss: 0.0016 - coeff_determination: 0.9832 - val_loss: 0.0015 - val_coeff_determination: 0.9838\n",
            "Epoch 51/100\n",
            "60000/60000 [==============================] - 10s 173us/step - loss: 0.0016 - coeff_determination: 0.9836 - val_loss: 0.0015 - val_coeff_determination: 0.9843\n",
            "Epoch 52/100\n",
            "60000/60000 [==============================] - 10s 173us/step - loss: 0.0015 - coeff_determination: 0.9842 - val_loss: 0.0014 - val_coeff_determination: 0.9849\n",
            "Epoch 53/100\n",
            "60000/60000 [==============================] - 10s 173us/step - loss: 0.0015 - coeff_determination: 0.9846 - val_loss: 0.0014 - val_coeff_determination: 0.9848\n",
            "Epoch 54/100\n",
            "60000/60000 [==============================] - 10s 174us/step - loss: 0.0014 - coeff_determination: 0.9850 - val_loss: 0.0014 - val_coeff_determination: 0.9855\n",
            "Epoch 55/100\n",
            "60000/60000 [==============================] - 10s 172us/step - loss: 0.0014 - coeff_determination: 0.9854 - val_loss: 0.0013 - val_coeff_determination: 0.9860\n",
            "Epoch 56/100\n",
            "60000/60000 [==============================] - 10s 173us/step - loss: 0.0014 - coeff_determination: 0.9856 - val_loss: 0.0013 - val_coeff_determination: 0.9859\n",
            "Epoch 57/100\n",
            "60000/60000 [==============================] - 10s 174us/step - loss: 0.0013 - coeff_determination: 0.9859 - val_loss: 0.0013 - val_coeff_determination: 0.9865\n",
            "Epoch 58/100\n",
            "60000/60000 [==============================] - 10s 173us/step - loss: 0.0013 - coeff_determination: 0.9862 - val_loss: 0.0013 - val_coeff_determination: 0.9867\n",
            "Epoch 59/100\n",
            "60000/60000 [==============================] - 10s 173us/step - loss: 0.0013 - coeff_determination: 0.9864 - val_loss: 0.0012 - val_coeff_determination: 0.9871\n",
            "Epoch 60/100\n",
            "60000/60000 [==============================] - 10s 174us/step - loss: 0.0013 - coeff_determination: 0.9866 - val_loss: 0.0012 - val_coeff_determination: 0.9873\n",
            "Epoch 61/100\n",
            "60000/60000 [==============================] - 10s 173us/step - loss: 0.0012 - coeff_determination: 0.9869 - val_loss: 0.0012 - val_coeff_determination: 0.9875\n",
            "Epoch 62/100\n",
            "60000/60000 [==============================] - 10s 173us/step - loss: 0.0012 - coeff_determination: 0.9871 - val_loss: 0.0012 - val_coeff_determination: 0.9877\n",
            "Epoch 63/100\n",
            "60000/60000 [==============================] - 10s 174us/step - loss: 0.0012 - coeff_determination: 0.9874 - val_loss: 0.0011 - val_coeff_determination: 0.9879\n",
            "Epoch 64/100\n",
            "60000/60000 [==============================] - 10s 174us/step - loss: 0.0012 - coeff_determination: 0.9876 - val_loss: 0.0011 - val_coeff_determination: 0.9882\n",
            "Epoch 65/100\n",
            "60000/60000 [==============================] - 10s 173us/step - loss: 0.0012 - coeff_determination: 0.9878 - val_loss: 0.0011 - val_coeff_determination: 0.9884\n",
            "Epoch 66/100\n",
            "60000/60000 [==============================] - 10s 173us/step - loss: 0.0011 - coeff_determination: 0.9881 - val_loss: 0.0011 - val_coeff_determination: 0.9887\n",
            "Epoch 67/100\n",
            "60000/60000 [==============================] - 10s 174us/step - loss: 0.0011 - coeff_determination: 0.9884 - val_loss: 0.0011 - val_coeff_determination: 0.9889\n",
            "Epoch 68/100\n",
            "60000/60000 [==============================] - 10s 173us/step - loss: 0.0011 - coeff_determination: 0.9886 - val_loss: 0.0010 - val_coeff_determination: 0.9892\n",
            "Epoch 69/100\n",
            "60000/60000 [==============================] - 10s 174us/step - loss: 0.0011 - coeff_determination: 0.9888 - val_loss: 0.0010 - val_coeff_determination: 0.9894\n",
            "Epoch 70/100\n",
            "60000/60000 [==============================] - 10s 173us/step - loss: 0.0010 - coeff_determination: 0.9890 - val_loss: 9.8978e-04 - val_coeff_determination: 0.9896\n",
            "Epoch 71/100\n",
            "60000/60000 [==============================] - 10s 174us/step - loss: 0.0010 - coeff_determination: 0.9893 - val_loss: 9.5061e-04 - val_coeff_determination: 0.9900\n",
            "Epoch 72/100\n",
            "60000/60000 [==============================] - 10s 174us/step - loss: 9.7805e-04 - coeff_determination: 0.9897 - val_loss: 9.3717e-04 - val_coeff_determination: 0.9902\n",
            "Epoch 73/100\n",
            "60000/60000 [==============================] - 10s 172us/step - loss: 9.5563e-04 - coeff_determination: 0.9899 - val_loss: 8.9585e-04 - val_coeff_determination: 0.9906\n",
            "Epoch 74/100\n",
            "60000/60000 [==============================] - 10s 174us/step - loss: 9.3343e-04 - coeff_determination: 0.9902 - val_loss: 8.7638e-04 - val_coeff_determination: 0.9908\n",
            "Epoch 75/100\n",
            "60000/60000 [==============================] - 10s 174us/step - loss: 9.0567e-04 - coeff_determination: 0.9905 - val_loss: 8.5578e-04 - val_coeff_determination: 0.9910\n",
            "Epoch 76/100\n",
            "60000/60000 [==============================] - 11s 175us/step - loss: 8.8336e-04 - coeff_determination: 0.9907 - val_loss: 8.3970e-04 - val_coeff_determination: 0.9912\n",
            "Epoch 77/100\n",
            "60000/60000 [==============================] - 10s 173us/step - loss: 8.7245e-04 - coeff_determination: 0.9908 - val_loss: 8.1416e-04 - val_coeff_determination: 0.9915\n",
            "Epoch 78/100\n",
            "60000/60000 [==============================] - 11s 176us/step - loss: 8.5847e-04 - coeff_determination: 0.9910 - val_loss: 8.1912e-04 - val_coeff_determination: 0.9914\n",
            "Epoch 79/100\n",
            "60000/60000 [==============================] - 10s 174us/step - loss: 8.4924e-04 - coeff_determination: 0.9910 - val_loss: 8.1138e-04 - val_coeff_determination: 0.9915\n",
            "Epoch 80/100\n",
            "60000/60000 [==============================] - 10s 173us/step - loss: 8.3554e-04 - coeff_determination: 0.9912 - val_loss: 8.0113e-04 - val_coeff_determination: 0.9916\n",
            "Epoch 81/100\n",
            "60000/60000 [==============================] - 10s 173us/step - loss: 8.3028e-04 - coeff_determination: 0.9912 - val_loss: 7.7890e-04 - val_coeff_determination: 0.9918\n",
            "Epoch 82/100\n",
            "60000/60000 [==============================] - 10s 174us/step - loss: 8.2067e-04 - coeff_determination: 0.9914 - val_loss: 7.6465e-04 - val_coeff_determination: 0.9920\n",
            "Epoch 83/100\n",
            "60000/60000 [==============================] - 11s 175us/step - loss: 8.0381e-04 - coeff_determination: 0.9915 - val_loss: 7.7376e-04 - val_coeff_determination: 0.9919\n",
            "Epoch 84/100\n",
            "60000/60000 [==============================] - 11s 175us/step - loss: 7.9973e-04 - coeff_determination: 0.9916 - val_loss: 7.5746e-04 - val_coeff_determination: 0.9920\n",
            "Epoch 85/100\n",
            "60000/60000 [==============================] - 10s 175us/step - loss: 7.9012e-04 - coeff_determination: 0.9917 - val_loss: 7.5062e-04 - val_coeff_determination: 0.9921\n",
            "Epoch 86/100\n",
            "60000/60000 [==============================] - 10s 174us/step - loss: 7.8306e-04 - coeff_determination: 0.9918 - val_loss: 7.3011e-04 - val_coeff_determination: 0.9923\n",
            "Epoch 87/100\n",
            "60000/60000 [==============================] - 10s 173us/step - loss: 7.8367e-04 - coeff_determination: 0.9917 - val_loss: 7.5951e-04 - val_coeff_determination: 0.9920\n",
            "Epoch 88/100\n",
            "60000/60000 [==============================] - 10s 174us/step - loss: 7.8174e-04 - coeff_determination: 0.9918 - val_loss: 7.4590e-04 - val_coeff_determination: 0.9922\n",
            "Epoch 89/100\n",
            "60000/60000 [==============================] - 10s 173us/step - loss: 7.7534e-04 - coeff_determination: 0.9918 - val_loss: 7.4191e-04 - val_coeff_determination: 0.9922\n",
            "Epoch 90/100\n",
            "60000/60000 [==============================] - 10s 174us/step - loss: 7.6531e-04 - coeff_determination: 0.9919 - val_loss: 7.1689e-04 - val_coeff_determination: 0.9925\n",
            "Epoch 91/100\n",
            "60000/60000 [==============================] - 10s 173us/step - loss: 7.5931e-04 - coeff_determination: 0.9920 - val_loss: 7.1386e-04 - val_coeff_determination: 0.9925\n",
            "Epoch 92/100\n",
            "60000/60000 [==============================] - 10s 175us/step - loss: 7.6117e-04 - coeff_determination: 0.9920 - val_loss: 7.1713e-04 - val_coeff_determination: 0.9925\n",
            "Epoch 93/100\n",
            "60000/60000 [==============================] - 10s 174us/step - loss: 7.6045e-04 - coeff_determination: 0.9920 - val_loss: 7.1018e-04 - val_coeff_determination: 0.9925\n",
            "Epoch 94/100\n",
            "60000/60000 [==============================] - 10s 173us/step - loss: 7.5492e-04 - coeff_determination: 0.9920 - val_loss: 7.1533e-04 - val_coeff_determination: 0.9925\n",
            "Epoch 95/100\n",
            "60000/60000 [==============================] - 10s 174us/step - loss: 7.5017e-04 - coeff_determination: 0.9921 - val_loss: 6.9981e-04 - val_coeff_determination: 0.9927\n",
            "Epoch 96/100\n",
            "60000/60000 [==============================] - 10s 175us/step - loss: 7.4777e-04 - coeff_determination: 0.9921 - val_loss: 7.0975e-04 - val_coeff_determination: 0.9925\n",
            "Epoch 97/100\n",
            "60000/60000 [==============================] - 10s 174us/step - loss: 7.4417e-04 - coeff_determination: 0.9922 - val_loss: 6.9766e-04 - val_coeff_determination: 0.9927\n",
            "Epoch 98/100\n",
            "60000/60000 [==============================] - 10s 172us/step - loss: 7.4223e-04 - coeff_determination: 0.9922 - val_loss: 7.0300e-04 - val_coeff_determination: 0.9926\n",
            "Epoch 99/100\n",
            "60000/60000 [==============================] - 10s 174us/step - loss: 7.3802e-04 - coeff_determination: 0.9922 - val_loss: 6.8644e-04 - val_coeff_determination: 0.9928\n",
            "Epoch 100/100\n",
            "60000/60000 [==============================] - 10s 173us/step - loss: 7.3747e-04 - coeff_determination: 0.9922 - val_loss: 6.8732e-04 - val_coeff_determination: 0.9928\n"
          ],
          "name": "stdout"
        },
        {
          "output_type": "execute_result",
          "data": {
            "text/plain": [
              "<keras.callbacks.callbacks.History at 0x7f8da8f10f28>"
            ]
          },
          "metadata": {
            "tags": []
          },
          "execution_count": 79
        }
      ]
    },
    {
      "cell_type": "code",
      "metadata": {
        "id": "ofyLHYez40o0",
        "colab_type": "code",
        "colab": {}
      },
      "source": [
        "decoded_imgs = autoencoder.predict(X_test)"
      ],
      "execution_count": 0,
      "outputs": []
    },
    {
      "cell_type": "code",
      "metadata": {
        "id": "VsVytqEOg-Cd",
        "colab_type": "code",
        "outputId": "6965d842-6d38-425a-897d-e91d511fbf6f",
        "colab": {
          "base_uri": "https://localhost:8080/",
          "height": 252
        }
      },
      "source": [
        "#visualizacion de la decodificacion\n",
        "\n",
        "X_test = X_test.reshape((X_test.shape[0], 28, 28, 1))\n",
        "decoded_imgs = decoded_imgs.reshape((decoded_imgs.shape[0], 28, 28, 1))\n",
        "\n",
        "n = 9\n",
        "plt.figure(figsize=(25, 4))\n",
        "for i in range(n):\n",
        "    i = i + 1\n",
        "    # display original\n",
        "    ax = plt.subplot(2, n, i)\n",
        "    plt.imshow(X_test[i].reshape(28, 28))\n",
        "    #plt.gray()\n",
        "    ax.get_xaxis().set_visible(False)\n",
        "    ax.get_yaxis().set_visible(False)\n",
        "\n",
        "    # display reconstruction\n",
        "    ax = plt.subplot(2, n, i+n)\n",
        "    plt.imshow(decoded_imgs[i].reshape(28, 28))\n",
        "    #plt.gray()\n",
        "    ax.get_xaxis().set_visible(False)\n",
        "    ax.get_yaxis().set_visible(False)\n",
        "plt.show()\n"
      ],
      "execution_count": 109,
      "outputs": [
        {
          "output_type": "display_data",
          "data": {
            "image/png": "[encoded data removed]",
            "text/plain": [
              "<Figure size 1800x288 with 18 Axes>"
            ]
          },
          "metadata": {
            "tags": []
          }
        }
      ]
    }
  ]
}